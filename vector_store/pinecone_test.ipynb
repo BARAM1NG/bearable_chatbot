{
 "cells": [
  {
   "cell_type": "markdown",
   "id": "c8b2620c",
   "metadata": {},
   "source": [
    "## 00. 프로젝트 목적\n",
    "- 본 프로젝트는 Pinecone vector store를 위한 연습 프로젝트입니다.\n",
    "\n",
    "- [Pinecone 공식 홈페이지](https://docs.pinecone.io/integrations/langchain)\n",
    "- [Pinecone 랭체인](https://python.langchain.com/v0.2/docs/integrations/vectorstores/pinecone/)"
   ]
  },
  {
   "cell_type": "markdown",
   "id": "4554090e",
   "metadata": {},
   "source": [
    "### 필요한 환경변수 로드"
   ]
  },
  {
   "cell_type": "code",
   "execution_count": 2,
   "id": "0f600d88",
   "metadata": {},
   "outputs": [],
   "source": [
    "# API 키를 환경변수로 관리하기 위한 설정 파일\n",
    "from dotenv import load_dotenv\n",
    "import os\n",
    "\n",
    "\n",
    "# API 키 정보 로드\n",
    "load_dotenv()\n",
    "\n",
    "# 환경 변수에서 OpenAI API 키 읽어오기\n",
    "openai_api_key = os.environ.get('OPENAI_API_KEY') \n",
    "# 환경 변수에서 Pinecone API 키 읽어오기\n",
    "pinecone_api_key = os.environ.get(\"PINECONE_API_KEY\")"
   ]
  },
  {
   "cell_type": "markdown",
   "id": "4d524a7d",
   "metadata": {},
   "source": [
    "## 01. PDF to Text\n",
    "1. PDF 텍스트를 추출하는데 강점을 가진 함수\n",
    "    - `extract_text_from_pdf`\n",
    "    - 텍스트가 주를 이루고 있을 때, 사용한다.\n",
    "2. PDF to Markdown 함수\n",
    "    - `extract_markdown_from_pdf`\n",
    "    - 표와 텍스트가 병합하여 사용되고 있을 때 사용하면 유용하다."
   ]
  },
  {
   "cell_type": "code",
   "execution_count": 159,
   "id": "4fab3a78",
   "metadata": {},
   "outputs": [
    {
     "name": "stdout",
     "output_type": "stream",
     "text": [
      "PDF 파일 로드 중: ../create_dataset/source_data/pdf/prompt_test.pdf\n",
      "총 5개의 청크로 나누었습니다.\n",
      "총 5개의 청크 중 5개의 유효한 청크를 추출했습니다.\n",
      "총 5개의 청크 중 5개의 병합된 청크를 생성했습니다.\n",
      "병합으로 0개의 청크가 줄었습니다.\n"
     ]
    }
   ],
   "source": [
    "import sys\n",
    "import os\n",
    "\n",
    "# vector_store 폴더의 상위 디렉토리인 프로젝트 루트를 수동으로 지정합니다.\n",
    "project_root = os.path.abspath('..')\n",
    "if project_root not in sys.path:\n",
    "    sys.path.insert(0, project_root)\n",
    "\n",
    "from create_dataset.utils import extract_markdown\n",
    "\n",
    "# PDF 파일에서 마크다운 추출\n",
    "chunks = extract_markdown.extract_markdown_from_pdf('../create_dataset/source_data/pdf/prompt_test.pdf')"
   ]
  },
  {
   "cell_type": "code",
   "execution_count": 153,
   "id": "70758171",
   "metadata": {},
   "outputs": [
    {
     "data": {
      "text/plain": [
       "['--- Chunk 1/5 ---\\n### 과목 소개\\n\\n#\\n\\n#### ‘공통수학1’과 ‘공통수학2’는 수학에 대한 기초 소양과 학문적 이해를 기반으로 학생 스스로 자신의 적성을 개발하여 창의성을 갖춘 사람으로 성장하기 위해 수학의 여러 영역의 기본적인 내용을 학습하는 과목이다. 특히 ‘공통수학1’은 중학교 ‘변화와 관계’ 영역에서 학습한 다항식, 방정식, 부등식이 심화되고 다양한 유형으로 다루어지며, ‘자료와 가능성’ 영역에서 학습한 경우의 수가 순열과 조합을 활용하는 방법으로 체계화된다.\\n\\n#\\n\\n## 무엇을 배울까요?\\n#\\n\\n### 40 [ 경상남도교육청]\\n\\n|범주 다항식 방정식과 부등식 지식·이해 경우의 수 행렬|Col2|내용 요소 • 다항식의 연산 • 나머지정리 • 인수분해|\\n\\n|---|---|---|\\n||방정식과 부등식|• 복소수와 이차방정식 • 이차방정식과 이차함수 • 여러 가지 방정식과 부등식|\\n||경우의 수|• 합의 법칙과 곱의 법칙 • 순열과 조합|\\n||행렬|• 행렬과 그 연산|\\n|과정·기능|• 다항식, 방정식과 부등식, 경우의 수, 행렬의 개념, 원리, 법칙이나 자신의 수학적 사고와 전략을 설명하기 • 수학적 절차를 수행하고 계산하기 • 적절한 전략을 사용하여 문제해결하기 • 이차방정식과 이차부등식을 이차함수와 연결하기 • 이차함수의 그래프와 직선의 위치 관계를 판단하기 • 다항식, 방정식과 부등식, 경우의 수, 행렬의 개념, 원리, 법칙, 성질을 탐구하기 • 방정식과 부등식 풀기 • 방정식과 부등식, 경우의 수, 행렬을 실생활과 연결하기 • 식과 그래프, 수학 기호, 행렬 등을 표현하기||\\n\\n-----\\n\\n#',\n",
       " '--- Chunk 2/5 ---\\n## 과목 소개\\n\\n#\\n\\n#### ‘공통수학1’과 ‘공통수학2’는 수학에 대한 기초 소양과 학문적 이해를 기반으로 학생 스스로 자신의 적성을 개발하여 창의성을 갖춘 사람으로 성장하기 위해 수학의 여러 영역의 기본적인 내용을 학습하는 과목이다. 특히 ‘공통수학2’는 중학교 ‘변화와 관계’ 영역에서 학습한 함수의 개념이 확장되고, ‘도형과 측정’ 영역에서 학습한 원과 직선을 방정식으로 다룬다.\\n\\n#\\n\\n## 무엇을 배울까요?\\n\\n|범주 도형의 방정식 지식·이해 집합과 명제 함수와 그래프|Col2|내용 요소 • 평면좌표 • 직선의 방정식 • 원의 방정식 • 도형의 이동|\\n\\n|---|---|---|\\n||집합과 명제|• 집합 • 명제|\\n||함수와 그래프|• 함수 • 유리함수와 무리함수|\\n|과정·기능|• 수학적 절차를 수행하고 계산하기 • 도형의 방정식, 집합과 명제, 함수와 그래프의 개념, 원리, 법칙 탐구하기 • 적절한 전략을 사용하여 문제해결하기 • 도형을 방정식과 연결하기 • 식과 그래프, 수학 기호, 집합 등을 표현하기 • 원과 직선의 위치 관계, 두 집합 사이의 포함 관계, 명제의 조건을 판단하기 • 도형의 방정식, 집합과 명제, 함수와 그래프를 실생활과 연결하기 • 도형의 방정식, 집합과 명제, 함수와 그래프의 개념, 원리, 법칙이나 자신의 수학적 사고와 전략을 설명하기 • 다양한 방법으로 증명하기 • 합성함수와 역함수 구하기||\\n\\n\\n#\\n\\n### 2022 개정 교육과정 고등학교 보통교과 과목 안내자료  41\\n\\n-----\\n\\n#\\n\\n## 과목 소개\\n\\n#\\n\\n#### ‘기본수학1’과 ‘기본수학2’는 기본적인 삶을 영위하고 일상생활을 포함한 다양한 맥락의 문제를 해결하며 수학적 사고를 경험하고 음미하는 데 도움이 될 뿐 아니라 여러 교과 학습의 토대가 된다. ‘기본수학1’은 중학교 ‘변화와 관계’ 영역에서 학습한 다항식, 방정식, 부등식이 심화된 유형으로 다루어지며, ‘자료와 가능성’ 영역에서 학습한 경우의 수가 순열과 조합을 활용하는 방법으로 체계화된다.\\n\\n#',\n",
       " '--- Chunk 3/5 ---\\n## 무엇을 배울까요?\\n#\\n\\n### 42 [ 경상남도교육청]\\n\\n|범주 다항식 방정식과 부등식 지식·이해 경우의 수 행렬|Col2|내용 요소 • 다항식의 연산 • 인수분해|\\n\\n|---|---|---|\\n||방정식과 부등식|• 이차방정식과 이차함수 • 부등식|\\n||경우의 수|• 합의 법칙과 곱의 법칙 • 순열과 조합|\\n||행렬|• 행렬과 그 연산|\\n|과정·기능|• 다항식, 방정식과 부등식, 경우의 수, 행렬의 개념, 원리, 법칙이나 자신의 수학적 사고와 전략을 설명하기 • 수학적 절차를 수행하고 계산하기 • 적절한 전략을 사용하여 문제해결하기 • 이차방정식과 이차부등식을 이차함수와 연결하기 • 이차방정식의 근의 존재성을 판단하기 • 다항식, 방정식과 부등식, 경우의 수, 행렬의 개념, 원리, 법칙, 성질을 탐구하기 • 방정식과 부등식 풀기 • 경우의 수 구하기 • 방정식과 부등식, 경우의 수, 행렬을 실생활과 연결하기 • 식과 그래프, 수학 기호, 행렬 등을 표현하기||\\n\\n-----\\n\\n#\\n\\n## 과목 소개\\n\\n#\\n\\n#### ‘기본수학1’과 ‘기본수학2’는 기본적인 삶을 영위하고 일상생활을 포함한 다양한 맥락의 문제를 해결하며 수학적 사고를 경험하고 음미하는 데 도움이 될 뿐 아니라 여러 교과 학습의 토대가 된다. ‘기본수학2’는 중학교 ‘변화와 관계’ 영역에서 학습한 함수의 개념이 확장되고, ‘도형과 측정’ 영역에서 학습한 원과 직선을 방정식으로 다룬다.\\n\\n#',\n",
       " '--- Chunk 4/5 ---\\n## 무엇을 배울까요?\\n\\n|범주 도형의 방정식 지식·이해 집합과 명제 함수와 그래프|Col2|내용 요소 • 평면좌표 • 직선의 방정식 • 원의 방정식 • 도형의 이동|\\n\\n|---|---|---|\\n||집합과 명제|• 집합 • 명제|\\n||함수와 그래프|• 함수 • 유리함수와 무리함수|\\n|과정·기능|• 수학적 절차를 수행하고 계산하기 • 도형의 방정식, 집합과 명제, 함수와 그래프의 개념, 원리, 법칙 탐구하기 • 적절한 전략을 사용하여 문제해결하기 • 도형을 방정식과 연결하기 • 식과 그래프, 수학 기호, 집합 등을 표현하기 • 원과 직선의 위치 관계, 두 집합 사이의 포함 관계를 판단하기 • 도형의 방정식, 집합과 명제, 함수와 그래프를 실생활과 연결하기 • 도형의 방정식, 집합과 명제, 함수와 그래프의 개념, 원리, 법칙이나 자신의 수학적 사고와 전략을 설명하기 • 합성함수와 역함수 구하기||\\n\\n\\n#\\n\\n### 2022 개정 교육과정 고등학교 보통교과 과목 안내자료  43\\n\\n-----\\n\\n#\\n\\n## 과목 소개\\n\\n#\\n\\n#### ‘대수’는 규칙적으로 변화하는 관계를 표현한 함수에 대해 이해하고 탐구하는 과목이다. ‘대수’에서 학습한 내용은 매우 빠르게 또는 느리게 증가하거나 감소하는 수량이나 현상 혹은 주기적인 현상을 표현하고 탐구하거나, 규칙적으로 나열된 수를 일반적인 식으로 나타내는 데 도움이 된다. ‘대수’를 학습한 학생들은 큰 수를 더 편리하게 다루고, 주기적인 성질을 이해하여 다양한 사회 현상이나 자연 현상을 수학적으로 해석하고 탐구할 수 있으며, 모든 자연수에서 성립하는 규칙의 일반성을 귀납적 추론 또는 연역적 추론을 통해 수학적으로 정당화할 수 있다. ‘대수’는 자신의 진로와 적성을 고려하여 대수에 대한 지식과 ․ 기능을 습득하기를 원하는 학생들이 선택할 수 있다. ‘대수’에서 학습한 내용은 자연과학, 공학, 의학, 경제 경영학을 포함한 사회과학 등 여러 분야를 학습하는 데 기초가 된다.\\n\\n#',\n",
       " '--- Chunk 5/5 ---\\n## 무엇을 배울까요?\\n#\\n\\n### 44 [ 경상남도교육청]\\n\\n|범주 지수함수와 로그함수 삼각함수 지식·이해 수열|Col2|내용 요소 • 지수와 로그 • 지수함수와 로그함수|\\n\\n|---|---|---|\\n||삼각함수|• 삼각함수 • 사인법칙과 코사인법칙|\\n||수열|• 등차수열과 등비수열 • 수열의 합 • 수학적 귀납법|\\n|과정·기능|• 대수의 개념, 원리, 법칙 탐구하기 • 식과 그래프, 수학 기호 등을 비교하고, 표현하기 • 대수의 개념, 원리, 법칙이나 자신의 수학적 사고와 전략 설명하기 • 적절한 전략을 사용하여 문제해결하기 • 대수의 개념, 법칙 활용하기 • 적절한 공학 도구를 선택하여 함수의 그래프 그리고 탐구하기 • 상용로그, 삼각함수를 실생활과 연결하기 • 등차수열과 등비수열의 일반항과 그 합 구하기 • 수학적 귀납법으로 증명하기||\\n\\n-----']"
      ]
     },
     "execution_count": 153,
     "metadata": {},
     "output_type": "execute_result"
    }
   ],
   "source": [
    "chunks"
   ]
  },
  {
   "cell_type": "markdown",
   "id": "13a73595",
   "metadata": {},
   "source": [
    "### 02. Text Embedding\n",
    "- 변환된 텍스트를 벡터로 임베딩\n",
    "- 텍스트 청크를 Langchain의 Document 객체로 변환하는 과정"
   ]
  },
  {
   "cell_type": "code",
   "execution_count": 5,
   "id": "5cdb5ec7",
   "metadata": {},
   "outputs": [],
   "source": [
    "from langchain.schema import Document\n",
    "\n",
    "# Document 리스트로 변환\n",
    "documents = [Document(page_content=chunk, metadata={\"source\": \"your-source-name\"}) for chunk in chunks]\n",
    "\n",
    "# 각 청크에 'text' 메타데이터 추가\n",
    "for chunk in documents:\n",
    "    chunk.metadata['text'] = chunk.page_content"
   ]
  },
  {
   "cell_type": "code",
   "execution_count": 11,
   "id": "f41dbf55",
   "metadata": {},
   "outputs": [
    {
     "data": {
      "text/plain": [
       "Document(metadata={'source': 'your-source-name', 'text': '-----'}, page_content='-----')"
      ]
     },
     "execution_count": 11,
     "metadata": {},
     "output_type": "execute_result"
    }
   ],
   "source": [
    "chunk"
   ]
  },
  {
   "cell_type": "code",
   "execution_count": null,
   "id": "a19f24ae",
   "metadata": {},
   "outputs": [
    {
     "name": "stderr",
     "output_type": "stream",
     "text": [
      "🔍 임베딩 중: 100%|██████████| 6/6 [00:04<00:00,  1.23it/s]\n"
     ]
    }
   ],
   "source": [
    "from tqdm import tqdm\n",
    "from openai import OpenAI\n",
    "\n",
    "\n",
    "# 클라이언트 초기화\n",
    "client = OpenAI(api_key=openai_api_key)\n",
    "\n",
    "# 텍스트 → 벡터로 변환\n",
    "def get_embedding(text):\n",
    "    response = client.embeddings.create(\n",
    "        model=\"text-embedding-3-large\",\n",
    "        input=[text]\n",
    "    )\n",
    "    return response.data[0].embedding\n",
    "\n",
    "\n",
    "embeddings = []\n",
    "for chunk in tqdm(chunks, desc=\"🔍 임베딩 중\"):\n",
    "    embeddings.append(get_embedding(chunk))"
   ]
  },
  {
   "cell_type": "markdown",
   "id": "235270e3",
   "metadata": {},
   "source": [
    "### 03. Pinecone Vector DB\n",
    "- Index 생성"
   ]
  },
  {
   "cell_type": "code",
   "execution_count": 7,
   "id": "f5aed419",
   "metadata": {},
   "outputs": [
    {
     "name": "stderr",
     "output_type": "stream",
     "text": [
      "/opt/homebrew/Caskroom/miniconda/base/envs/bearable/lib/python3.11/site-packages/tqdm/auto.py:21: TqdmWarning: IProgress not found. Please update jupyter and ipywidgets. See https://ipywidgets.readthedocs.io/en/stable/user_install.html\n",
      "  from .autonotebook import tqdm as notebook_tqdm\n"
     ]
    }
   ],
   "source": [
    "from pinecone import Pinecone, ServerlessSpec\n",
    "from langchain_openai import OpenAIEmbeddings\n",
    "from langchain_community.vectorstores import Pinecone as LangchainPinecone\n",
    "\n",
    "# Pinecone 클라이언트 초기화\n",
    "pc = Pinecone(api_key=pinecone_api_key)"
   ]
  },
  {
   "cell_type": "code",
   "execution_count": 8,
   "id": "032522be",
   "metadata": {},
   "outputs": [
    {
     "data": {
      "text/plain": [
       "[\n",
       "    {\n",
       "        \"name\": \"bearable-openai\",\n",
       "        \"metric\": \"dotproduct\",\n",
       "        \"host\": \"bearable-openai-x6xczpc.svc.aped-4627-b74a.pinecone.io\",\n",
       "        \"spec\": {\n",
       "            \"serverless\": {\n",
       "                \"cloud\": \"aws\",\n",
       "                \"region\": \"us-east-1\"\n",
       "            }\n",
       "        },\n",
       "        \"status\": {\n",
       "            \"ready\": true,\n",
       "            \"state\": \"Ready\"\n",
       "        },\n",
       "        \"vector_type\": \"dense\",\n",
       "        \"dimension\": 1536,\n",
       "        \"deletion_protection\": \"disabled\",\n",
       "        \"tags\": null\n",
       "    }\n",
       "]"
      ]
     },
     "execution_count": 8,
     "metadata": {},
     "output_type": "execute_result"
    }
   ],
   "source": [
    "# Pinecone index 확인\n",
    "pc.list_indexes()"
   ]
  },
  {
   "cell_type": "code",
   "execution_count": null,
   "id": "41951013",
   "metadata": {},
   "outputs": [],
   "source": [
    "# 해당 코드는 한번만 합니다.\n",
    "\n",
    "# Pinecone 인덱스 생성\n",
    "index_name = \"bearable-openai\"\n",
    "\n",
    "if not pc.has_index(index_name):\n",
    "    pc.create_index_for_model(\n",
    "        name=index_name,\n",
    "        cloud=\"aws\",\n",
    "        region=\"us-east-1\",\n",
    "        embed={\n",
    "            \"model\": \"text-embedding-ada-002\",\n",
    "            \"field_map\": {\"text\": \"chunk_text\"}\n",
    "        }\n",
    "    )"
   ]
  },
  {
   "cell_type": "code",
   "execution_count": null,
   "id": "6f1a8cb8",
   "metadata": {},
   "outputs": [
    {
     "name": "stderr",
     "output_type": "stream",
     "text": [
      "/var/folders/jn/6v9ffl5x6gvf4y16kqq_wqgh0000gn/T/ipykernel_33235/2609117800.py:6: LangChainDeprecationWarning: The class `OpenAIEmbeddings` was deprecated in LangChain 0.0.9 and will be removed in 1.0. An updated version of the class exists in the :class:`~langchain-openai package and should be used instead. To use it run `pip install -U :class:`~langchain-openai` and import as `from :class:`~langchain_openai import OpenAIEmbeddings``.\n",
      "  embeddings = OpenAIEmbeddings(\n"
     ]
    }
   ],
   "source": [
    "from langchain.embeddings import OpenAIEmbeddings\n",
    "from langchain.docstore.document import Document\n",
    "from langchain_pinecone import PineconeVectorStore\n",
    "\n",
    "# OpenAI 임베딩 인스턴스 생성\n",
    "embeddings = OpenAIEmbeddings(\n",
    "    model='text-embedding-ada-002',\n",
    "    openai_api_key=openai_api_key\n",
    ")\n",
    "\n",
    "# 문자열 리스트(chunks)가 있을 경우 Document 객체로 변환\n",
    "documents = [Document(page_content=chunk) for chunk in chunks]\n",
    "\n",
    "# PineconeVectorStore 생성\n",
    "pinecone_database = PineconeVectorStore.from_documents(\n",
    "    documents=documents,\n",
    "    embedding=embeddings,\n",
    "    pinecone_api_key=pinecone_api_key,\n",
    "    index_name=\"bearable-openai\"\n",
    ")"
   ]
  },
  {
   "cell_type": "markdown",
   "id": "650c2726",
   "metadata": {},
   "source": [
    "### 02. Text Embedding\n",
    "- 변환된 텍스트를 벡터로 임베딩\n",
    "- 텍스트 청크를 Langchain의 Document 객체로 변환하는 과정"
   ]
  },
  {
   "cell_type": "markdown",
   "id": "3ae63f8b",
   "metadata": {},
   "source": []
  }
 ],
 "metadata": {
  "kernelspec": {
   "display_name": "bearable",
   "language": "python",
   "name": "python3"
  },
  "language_info": {
   "codemirror_mode": {
    "name": "ipython",
    "version": 3
   },
   "file_extension": ".py",
   "mimetype": "text/x-python",
   "name": "python",
   "nbconvert_exporter": "python",
   "pygments_lexer": "ipython3",
   "version": "3.11.11"
  }
 },
 "nbformat": 4,
 "nbformat_minor": 5
}
