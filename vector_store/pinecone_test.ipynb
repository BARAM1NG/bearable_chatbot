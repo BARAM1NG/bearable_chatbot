{
 "cells": [
  {
   "cell_type": "markdown",
   "id": "c8b2620c",
   "metadata": {},
   "source": [
    "## 00. 프로젝트 목적\n",
    "- 본 프로젝트는 Pinecone vector store를 위한 연습 프로젝트입니다.\n",
    "\n",
    "- [Pinecone 공식 홈페이지](https://docs.pinecone.io/integrations/langchain)\n",
    "- [Pinecone 랭체인](https://python.langchain.com/v0.2/docs/integrations/vectorstores/pinecone/)"
   ]
  },
  {
   "cell_type": "markdown",
   "id": "4554090e",
   "metadata": {},
   "source": [
    "### 필요한 환경변수 로드"
   ]
  },
  {
   "cell_type": "code",
   "execution_count": 1,
   "id": "0f600d88",
   "metadata": {},
   "outputs": [],
   "source": [
    "# API 키를 환경변수로 관리하기 위한 설정 파일\n",
    "from dotenv import load_dotenv\n",
    "import os\n",
    "\n",
    "\n",
    "# API 키 정보 로드\n",
    "load_dotenv()\n",
    "\n",
    "# 환경 변수에서 OpenAI API 키 읽어오기\n",
    "openai_api_key = os.environ.get('OPENAI_API_KEY')\n",
    "\n",
    "# 환경 변수에서 Pinecone API 키 읽어오기\n",
    "pinecone_api_key = os.environ.get(\"PINECONE_API_KEY\")"
   ]
  },
  {
   "cell_type": "markdown",
   "id": "4d524a7d",
   "metadata": {},
   "source": [
    "## 01. PDF to Text\n",
    "1. PDF 텍스트를 추출하는데 강점을 가진 함수\n",
    "    - `extract_text_from_pdf`\n",
    "    - 텍스트가 주를 이루고 있을 때, 사용한다.\n",
    "2. PDF to Markdown 함수\n",
    "    - `extract_markdown_from_pdf`\n",
    "    - 표와 텍스트가 병합하여 사용되고 있을 때 사용하면 유용하다."
   ]
  },
  {
   "cell_type": "code",
   "execution_count": 2,
   "id": "4fab3a78",
   "metadata": {},
   "outputs": [
    {
     "name": "stdout",
     "output_type": "stream",
     "text": [
      "PDF 파일 로드 중: ../create_dataset/source_data/pdf/과목 소개.pdf\n",
      "Successfully imported LlamaIndex\n",
      "총 5개의 청크로 나누었습니다.\n",
      "총 5개의 청크 중 5개의 유효한 청크를 추출했습니다.\n",
      "총 5개의 청크 중 5개의 병합된 청크를 생성했습니다.\n",
      "병합으로 0개의 청크가 줄었습니다.\n"
     ]
    }
   ],
   "source": [
    "import sys\n",
    "import os\n",
    "\n",
    "# vector_store 폴더의 상위 디렉토리인 프로젝트 루트를 수동으로 지정합니다.\n",
    "project_root = os.path.abspath('..')\n",
    "if project_root not in sys.path:\n",
    "    sys.path.insert(0, project_root)\n",
    "\n",
    "from create_dataset.utils import extract_markdown\n",
    "\n",
    "# PDF 파일에서 마크다운 추출\n",
    "chunks = extract_markdown.extract_markdown_from_pdf('../create_dataset/source_data/pdf/과목 소개.pdf')"
   ]
  },
  {
   "cell_type": "code",
   "execution_count": 3,
   "id": "70758171",
   "metadata": {},
   "outputs": [
    {
     "data": {
      "text/plain": [
       "['--- Chunk 1/5 ---\\n### 과목 소개\\n\\n#\\n\\n#### ‘공통수학1’과 ‘공통수학2’는 수학에 대한 기초 소양과 학문적 이해를 기반으로 학생 스스로 자신의 적성을 개발하여 창의성을 갖춘 사람으로 성장하기 위해 수학의 여러 영역의 기본적인 내용을 학습하는 과목이다. 특히 ‘공통수학1’은 중학교 ‘변화와 관계’ 영역에서 학습한 다항식, 방정식, 부등식이 심화되고 다양한 유형으로 다루어지며, ‘자료와 가능성’ 영역에서 학습한 경우의 수가 순열과 조합을 활용하는 방법으로 체계화된다.\\n#\\n\\n## 무엇을 배울까요?\\n#\\n\\n### 40 [ 경상남도교육청]\\n\\n|범주 다항식 방정식과 부등식 지식·이해 경우의 수 행렬|Col2|내용 요소 • 다항식의 연산 • 나머지정리 • 인수분해|\\n\\n|---|---|---|\\n||방정식과 부등식|• 복소수와 이차방정식 • 이차방정식과 이차함수 • 여러 가지 방정식과 부등식|\\n||경우의 수|• 합의 법칙과 곱의 법칙 • 순열과 조합|\\n||행렬|• 행렬과 그 연산|\\n|과정·기능|• 다항식, 방정식과 부등식, 경우의 수, 행렬의 개념, 원리, 법칙이나 자신의 수학적 사고와 전략을 설명하기 • 수학적 절차를 수행하고 계산하기 • 적절한 전략을 사용하여 문제해결하기 • 이차방정식과 이차부등식을 이차함수와 연결하기 • 이차함수의 그래프와 직선의 위치 관계를 판단하기 • 다항식, 방정식과 부등식, 경우의 수, 행렬의 개념, 원리, 법칙, 성질을 탐구하기 • 방정식과 부등식 풀기 • 방정식과 부등식, 경우의 수, 행렬을 실생활과 연결하기 • 식과 그래프, 수학 기호, 행렬 등을 표현하기||\\n\\n-----\\n\\n#',\n",
       " '--- Chunk 2/5 ---\\n## 과목 소개\\n\\n#\\n\\n#### ‘공통수학1’과 ‘공통수학2’는 수학에 대한 기초 소양과 학문적 이해를 기반으로 학생 스스로 자신의 적성을 개발하여 창의성을 갖춘 사람으로 성장하기 위해 수학의 여러 영역의 기본적인 내용을 학습하는 과목이다. 특히 ‘공통수학2’는 중학교 ‘변화와 관계’ 영역에서 학습한 함수의 개념이 확장되고, ‘도형과 측정’ 영역에서 학습한 원과 직선을 방정식으로 다룬다.\\n\\n#\\n\\n## 무엇을 배울까요?\\n\\n|범주 도형의 방정식 지식·이해 집합과 명제 함수와 그래프|Col2|내용 요소 • 평면좌표 • 직선의 방정식 • 원의 방정식 • 도형의 이동|\\n\\n|---|---|---|\\n||집합과 명제|• 집합 • 명제|\\n||함수와 그래프|• 함수 • 유리함수와 무리함수|\\n|과정·기능|• 수학적 절차를 수행하고 계산하기 • 도형의 방정식, 집합과 명제, 함수와 그래프의 개념, 원리, 법칙 탐구하기 • 적절한 전략을 사용하여 문제해결하기 • 도형을 방정식과 연결하기 • 식과 그래프, 수학 기호, 집합 등을 표현하기 • 원과 직선의 위치 관계, 두 집합 사이의 포함 관계, 명제의 조건을 판단하기 • 도형의 방정식, 집합과 명제, 함수와 그래프를 실생활과 연결하기 • 도형의 방정식, 집합과 명제, 함수와 그래프의 개념, 원리, 법칙이나 자신의 수학적 사고와 전략을 설명하기 • 다양한 방법으로 증명하기 • 합성함수와 역함수 구하기||\\n\\n\\n#\\n\\n### 2022 개정 교육과정 고등학교 보통교과 과목 안내자료  41\\n\\n-----\\n\\n#\\n\\n## 과목 소개\\n\\n#\\n\\n#### ‘기본수학1’과 ‘기본수학2’는 기본적인 삶을 영위하고 일상생활을 포함한 다양한 맥락의 문제를 해결하며 수학적 사고를 경험하고 음미하는 데 도움이 될 뿐 아니라 여러 교과 학습의 토대가 된다. ‘기본수학1’은 중학교 ‘변화와 관계’ 영역에서 학습한 다항식, 방정식, 부등식이 심화된 유형으로 다루어지며, ‘자료와 가능성’ 영역에서 학습한 경우의 수가 순열과 조합을 활용하는 방법으로 체계화된다.\\n#',\n",
       " '--- Chunk 3/5 ---\\n## 무엇을 배울까요?\\n#\\n\\n### 42 [ 경상남도교육청]\\n\\n|범주 다항식 방정식과 부등식 지식·이해 경우의 수 행렬|Col2|내용 요소 • 다항식의 연산 • 인수분해|\\n\\n|---|---|---|\\n||방정식과 부등식|• 이차방정식과 이차함수 • 부등식|\\n||경우의 수|• 합의 법칙과 곱의 법칙 • 순열과 조합|\\n||행렬|• 행렬과 그 연산|\\n|과정·기능|• 다항식, 방정식과 부등식, 경우의 수, 행렬의 개념, 원리, 법칙이나 자신의 수학적 사고와 전략을 설명하기 • 수학적 절차를 수행하고 계산하기 • 적절한 전략을 사용하여 문제해결하기 • 이차방정식과 이차부등식을 이차함수와 연결하기 • 이차방정식의 근의 존재성을 판단하기 • 다항식, 방정식과 부등식, 경우의 수, 행렬의 개념, 원리, 법칙, 성질을 탐구하기 • 방정식과 부등식 풀기 • 경우의 수 구하기 • 방정식과 부등식, 경우의 수, 행렬을 실생활과 연결하기 • 식과 그래프, 수학 기호, 행렬 등을 표현하기||\\n\\n-----\\n\\n#\\n\\n## 과목 소개\\n\\n#\\n\\n#### ‘기본수학1’과 ‘기본수학2’는 기본적인 삶을 영위하고 일상생활을 포함한 다양한 맥락의 문제를 해결하며 수학적 사고를 경험하고 음미하는 데 도움이 될 뿐 아니라 여러 교과 학습의 토대가 된다. ‘기본수학2’는 중학교 ‘변화와 관계’ 영역에서 학습한 함수의 개념이 확장되고, ‘도형과 측정’ 영역에서 학습한 원과 직선을 방정식으로 다룬다.\\n\\n#',\n",
       " '--- Chunk 4/5 ---\\n## 무엇을 배울까요?\\n\\n|범주 도형의 방정식 지식·이해 집합과 명제 함수와 그래프|Col2|내용 요소 • 평면좌표 • 직선의 방정식 • 원의 방정식 • 도형의 이동|\\n\\n|---|---|---|\\n||집합과 명제|• 집합 • 명제|\\n||함수와 그래프|• 함수 • 유리함수와 무리함수|\\n|과정·기능|• 수학적 절차를 수행하고 계산하기 • 도형의 방정식, 집합과 명제, 함수와 그래프의 개념, 원리, 법칙 탐구하기 • 적절한 전략을 사용하여 문제해결하기 • 도형을 방정식과 연결하기 • 식과 그래프, 수학 기호, 집합 등을 표현하기 • 원과 직선의 위치 관계, 두 집합 사이의 포함 관계를 판단하기 • 도형의 방정식, 집합과 명제, 함수와 그래프를 실생활과 연결하기 • 도형의 방정식, 집합과 명제, 함수와 그래프의 개념, 원리, 법칙이나 자신의 수학적 사고와 전략을 설명하기 • 합성함수와 역함수 구하기||\\n\\n\\n#\\n\\n### 2022 개정 교육과정 고등학교 보통교과 과목 안내자료  43\\n\\n-----\\n\\n#\\n\\n## 과목 소개\\n\\n#\\n\\n#### ‘대수’는 규칙적으로 변화하는 관계를 표현한 함수에 대해 이해하고 탐구하는 과목이다. ‘대수’에서 학습한 내용은 매우 빠르게 또는 느리게 증가하거나 감소하는 수량이나 현상 혹은 주기적인 현상을 표현하고 탐구하거나, 규칙적으로 나열된 수를 일반적인 식으로 나타내는 데 도움이 된다. ‘대수’를 학습한 학생들은 큰 수를 더 편리하게 다루고, 주기적인 성질을 이해하여 다양한 사회 현상이나 자연 현상을 수학적으로 해석하고 탐구할 수 있으며, 모든 자연수에서 성립하는 규칙의 일반성을 귀납적 추론 또는 연역적 추론을 통해 수학적으로 정당화할 수 있다. ‘대수’는 자신의 진로와 적성을 고려하여 대수에 대한 지식과 ․ 기능을 습득하기를 원하는 학생들이 선택할 수 있다. ‘대수’에서 학습한 내용은 자연과학, 공학, 의학, 경제 경영학을 포함한 사회과학 등 여러 분야를 학습하는 데 기초가 된다.\\n\\n#',\n",
       " '--- Chunk 5/5 ---\\n## 무엇을 배울까요?\\n#\\n\\n### 44 [ 경상남도교육청]\\n\\n|범주 지수함수와 로그함수 삼각함수 지식·이해 수열|Col2|내용 요소 • 지수와 로그 • 지수함수와 로그함수|\\n\\n|---|---|---|\\n||삼각함수|• 삼각함수 • 사인법칙과 코사인법칙|\\n||수열|• 등차수열과 등비수열 • 수열의 합 • 수학적 귀납법|\\n|과정·기능|• 대수의 개념, 원리, 법칙 탐구하기 • 식과 그래프, 수학 기호 등을 비교하고, 표현하기 • 대수의 개념, 원리, 법칙이나 자신의 수학적 사고와 전략 설명하기 • 적절한 전략을 사용하여 문제해결하기 • 대수의 개념, 법칙 활용하기 • 적절한 공학 도구를 선택하여 함수의 그래프 그리고 탐구하기 • 상용로그, 삼각함수를 실생활과 연결하기 • 등차수열과 등비수열의 일반항과 그 합 구하기 • 수학적 귀납법으로 증명하기||\\n\\n-----']"
      ]
     },
     "execution_count": 3,
     "metadata": {},
     "output_type": "execute_result"
    }
   ],
   "source": [
    "chunks"
   ]
  },
  {
   "cell_type": "markdown",
   "id": "13a73595",
   "metadata": {},
   "source": [
    "### 02. Text Embedding\n",
    "- 변환된 텍스트를 벡터로 임베딩\n",
    "- 텍스트 청크를 Langchain의 Document 객체로 변환하는 과정"
   ]
  },
  {
   "cell_type": "code",
   "execution_count": 4,
   "id": "5cdb5ec7",
   "metadata": {},
   "outputs": [],
   "source": [
    "from langchain.schema import Document\n",
    "\n",
    "# Document 리스트로 변환\n",
    "documents = [Document(page_content=chunk, metadata={\"source\": \"고교학점제\"}) for chunk in chunks]\n",
    "\n",
    "# 각 청크에 'text' 메타데이터 추가\n",
    "for chunk in documents:\n",
    "    chunk.metadata['text'] = chunk.page_content"
   ]
  },
  {
   "cell_type": "code",
   "execution_count": 5,
   "id": "f41dbf55",
   "metadata": {},
   "outputs": [
    {
     "data": {
      "text/plain": [
       "Document(metadata={'source': '고교학점제', 'text': '--- Chunk 5/5 ---\\n## 무엇을 배울까요?\\n#\\n\\n### 44 [ 경상남도교육청]\\n\\n|범주 지수함수와 로그함수 삼각함수 지식·이해 수열|Col2|내용 요소 • 지수와 로그 • 지수함수와 로그함수|\\n\\n|---|---|---|\\n||삼각함수|• 삼각함수 • 사인법칙과 코사인법칙|\\n||수열|• 등차수열과 등비수열 • 수열의 합 • 수학적 귀납법|\\n|과정·기능|• 대수의 개념, 원리, 법칙 탐구하기 • 식과 그래프, 수학 기호 등을 비교하고, 표현하기 • 대수의 개념, 원리, 법칙이나 자신의 수학적 사고와 전략 설명하기 • 적절한 전략을 사용하여 문제해결하기 • 대수의 개념, 법칙 활용하기 • 적절한 공학 도구를 선택하여 함수의 그래프 그리고 탐구하기 • 상용로그, 삼각함수를 실생활과 연결하기 • 등차수열과 등비수열의 일반항과 그 합 구하기 • 수학적 귀납법으로 증명하기||\\n\\n-----'}, page_content='--- Chunk 5/5 ---\\n## 무엇을 배울까요?\\n#\\n\\n### 44 [ 경상남도교육청]\\n\\n|범주 지수함수와 로그함수 삼각함수 지식·이해 수열|Col2|내용 요소 • 지수와 로그 • 지수함수와 로그함수|\\n\\n|---|---|---|\\n||삼각함수|• 삼각함수 • 사인법칙과 코사인법칙|\\n||수열|• 등차수열과 등비수열 • 수열의 합 • 수학적 귀납법|\\n|과정·기능|• 대수의 개념, 원리, 법칙 탐구하기 • 식과 그래프, 수학 기호 등을 비교하고, 표현하기 • 대수의 개념, 원리, 법칙이나 자신의 수학적 사고와 전략 설명하기 • 적절한 전략을 사용하여 문제해결하기 • 대수의 개념, 법칙 활용하기 • 적절한 공학 도구를 선택하여 함수의 그래프 그리고 탐구하기 • 상용로그, 삼각함수를 실생활과 연결하기 • 등차수열과 등비수열의 일반항과 그 합 구하기 • 수학적 귀납법으로 증명하기||\\n\\n-----')"
      ]
     },
     "execution_count": 5,
     "metadata": {},
     "output_type": "execute_result"
    }
   ],
   "source": [
    "chunk"
   ]
  },
  {
   "cell_type": "code",
   "execution_count": 6,
   "id": "a19f24ae",
   "metadata": {},
   "outputs": [
    {
     "name": "stderr",
     "output_type": "stream",
     "text": [
      "임베딩 중: 100%|██████████| 5/5 [00:04<00:00,  1.04it/s]\n"
     ]
    }
   ],
   "source": [
    "from tqdm import tqdm\n",
    "from openai import OpenAI\n",
    "\n",
    "\n",
    "# 클라이언트 초기화\n",
    "client = OpenAI(api_key=openai_api_key)\n",
    "\n",
    "# 텍스트 → 벡터로 변환\n",
    "def get_embedding(text):\n",
    "    response = client.embeddings.create(\n",
    "        model=\"text-embedding-3-large\",\n",
    "        input=[text]\n",
    "    )\n",
    "    return response.data[0].embedding\n",
    "\n",
    "\n",
    "embeddings = []\n",
    "for chunk in tqdm(chunks, desc=\"임베딩 중\"):\n",
    "    embeddings.append(get_embedding(chunk))"
   ]
  },
  {
   "cell_type": "markdown",
   "id": "235270e3",
   "metadata": {},
   "source": [
    "### 03. Pinecone Vector DB\n",
    "- Index 생성"
   ]
  },
  {
   "cell_type": "code",
   "execution_count": 7,
   "id": "f5aed419",
   "metadata": {},
   "outputs": [
    {
     "name": "stderr",
     "output_type": "stream",
     "text": [
      "c:\\Users\\82106\\anaconda3\\envs\\bearable\\Lib\\site-packages\\pinecone\\data\\index.py:1: TqdmWarning: IProgress not found. Please update jupyter and ipywidgets. See https://ipywidgets.readthedocs.io/en/stable/user_install.html\n",
      "  from tqdm.autonotebook import tqdm\n"
     ]
    }
   ],
   "source": [
    "from pinecone import Pinecone, ServerlessSpec\n",
    "from langchain_openai import OpenAIEmbeddings\n",
    "from langchain_community.vectorstores import Pinecone as LangchainPinecone\n",
    "\n",
    "# Pinecone 클라이언트 초기화\n",
    "pc = Pinecone(api_key=pinecone_api_key)"
   ]
  },
  {
   "cell_type": "code",
   "execution_count": 8,
   "id": "032522be",
   "metadata": {},
   "outputs": [
    {
     "data": {
      "text/plain": [
       "{'indexes': [{'dimension': 1536,\n",
       "              'host': 'bearable-chatbot-7r6utof.svc.aped-4627-b74a.pinecone.io',\n",
       "              'metric': 'cosine',\n",
       "              'name': 'bearable-chatbot',\n",
       "              'spec': {'serverless': {'cloud': 'aws', 'region': 'us-east-1'}},\n",
       "              'status': {'ready': True, 'state': 'Ready'}}]}"
      ]
     },
     "execution_count": 8,
     "metadata": {},
     "output_type": "execute_result"
    }
   ],
   "source": [
    "# Pinecone index 확인\n",
    "pc.list_indexes()"
   ]
  },
  {
   "cell_type": "code",
   "execution_count": 10,
   "id": "41951013",
   "metadata": {},
   "outputs": [],
   "source": [
    "# 해당 코드는 한번만 합니다.\n",
    "\n",
    "# Pinecone 인덱스 생성\n",
    "index = pc.Index(\"bearable-chatbot\")\n",
    "\n",
    "# Pinecone 인덱스 이름\n",
    "index_name = \"bearable-chatbot\"\n",
    "\n",
    "# 인덱스 존재 여부 확인 (has_index 대신 list로 체크!)\n",
    "if index_name not in [index['name'] for index in pc.list_indexes()]:\n",
    "    pc.create_index(\n",
    "        name=index_name,\n",
    "        dimension=1536,  # OpenAI embedding size\n",
    "        metric=\"cosine\",\n",
    "        spec={\"cloud\": \"aws\", \"region\": \"us-east-1\"}\n",
    "    )"
   ]
  },
  {
   "cell_type": "code",
   "execution_count": 19,
   "id": "6f1a8cb8",
   "metadata": {},
   "outputs": [],
   "source": [
    "from langchain.embeddings import OpenAIEmbeddings\n",
    "from langchain.docstore.document import Document\n",
    "from langchain_community.vectorstores import Pinecone as PineconeVectorStore\n",
    "\n",
    "# OpenAI 임베딩 인스턴스 생성\n",
    "embeddings = OpenAIEmbeddings(\n",
    "    model='text-embedding-3-small',\n",
    "    openai_api_key=openai_api_key\n",
    ")\n",
    "\n",
    "# PineconeVectorStore 생성\n",
    "pinecone_database = PineconeVectorStore.from_documents(\n",
    "    documents=documents,\n",
    "    embedding=embeddings,\n",
    "    index_name=\"bearable-chatbot\"\n",
    ")"
   ]
  },
  {
   "cell_type": "markdown",
   "id": "601429a1",
   "metadata": {},
   "source": [
    "- 삭제할 떄 사용하는 코드"
   ]
  },
  {
   "cell_type": "code",
   "execution_count": 18,
   "id": "3cd98ff6",
   "metadata": {},
   "outputs": [
    {
     "data": {
      "text/plain": [
       "{}"
      ]
     },
     "execution_count": 18,
     "metadata": {},
     "output_type": "execute_result"
    }
   ],
   "source": [
    "# 네임스페이스 내 모든 벡터 삭제\n",
    "# index.delete(delete_all=True, namespace=\"\")"
   ]
  },
  {
   "cell_type": "markdown",
   "id": "650c2726",
   "metadata": {},
   "source": [
    "### 04. Retriver \n",
    "- 리트리버를 이용하여 DB에 있는 문서 호출"
   ]
  },
  {
   "cell_type": "markdown",
   "id": "a0246f53",
   "metadata": {},
   "source": [
    "1. 유사도 기반 리트리버 (similarity_retriever)\n",
    "\n",
    "- 코사인 유사도(cosine similarity) 또는 내적(dot product) 등을 기반으로 가장 유사한 문서들을 찾아 반환\n",
    "- 장점 : 문서 간 의미적 유사성을 비교 → 키워드가 다르더라도 의미가 같으면 잘 작동함"
   ]
  },
  {
   "cell_type": "code",
   "execution_count": 20,
   "id": "3ae63f8b",
   "metadata": {},
   "outputs": [
    {
     "name": "stderr",
     "output_type": "stream",
     "text": [
      "C:\\Users\\82106\\AppData\\Local\\Temp\\ipykernel_14896\\2947024676.py:10: LangChainDeprecationWarning: The class `ChatOpenAI` was deprecated in LangChain 0.0.10 and will be removed in 1.0. An updated version of the class exists in the :class:`~langchain-openai package and should be used instead. To use it run `pip install -U :class:`~langchain-openai` and import as `from :class:`~langchain_openai import ChatOpenAI``.\n",
      "  llm = ChatOpenAI(model_name=\"gpt-4-0125-preview\", temperature=0)\n",
      "C:\\Users\\82106\\AppData\\Local\\Temp\\ipykernel_14896\\2947024676.py:21: LangChainDeprecationWarning: The method `Chain.__call__` was deprecated in langchain 0.1.0 and will be removed in 1.0. Use :meth:`~invoke` instead.\n",
      "  result = qa_chain(query)\n"
     ]
    },
    {
     "name": "stdout",
     "output_type": "stream",
     "text": [
      "Answer: 공통수학 1에서 다항식의 종류를 살펴보면, 주로 다음과 같은 다양한 형태의 다항식들을 배우게 됩니다:\n",
      "\n",
      "1. **일차 다항식**: 변수의 최고차항이 1인 다항식입니다. 예를 들어, \\(f(x) = 2x + 3\\)과 같은 형태입니다.\n",
      "\n",
      "2. **이차 다항식**: 변수의 최고차항이 2인 다항식입니다. 예를 들어, \\(g(x) = ax^2 + bx + c\\) (\\(a \\neq 0\\))와 같은 형태입니다.\n",
      "\n",
      "3. **삼차 다항식**: 변수의 최고차항이 3인 다항식입니다. 예를 들어, \\(h(x) = 4x^3 - 3x^2 + 2x - 1\\)과 같은 형태입니다.\n",
      "\n",
      "4. **고차 다항식**: 변수의 최고차항이 4 이상인 다항식입니다. 예를 들어, \\(i(x) = x^4 - 2x^3 + x - 3\\)과 같은 형태입니다.\n",
      "\n",
      "5. **일변수 다항식**: 한 개의 변수만을 포함하는 다항식입니다. 예를 들어, \\(j(x) = 3x^2 - 4x + 5\\)와 같은 형태입니다.\n",
      "\n",
      "6. **다변수 다항식**: 두 개 이상의 변수를 포함하는 다항식입니다. 예를 들어, \\(k(x, y) = 2x^2 + 3xy + y^2\\)와 같은 형태입니다.\n",
      "\n",
      "이 외에도 다항식을 구성하는 항의 수에 따라 **단항식**(한 개의 항), **이항식**(두 개의 항), **삼항식**(세 개의 항) 등으로 구분할 수 있습니다. 다항식의 개념과 성질, 연산 등은 수학의 기본적이면서도 중요한 부분을 이루며, 고등학교 공통수학에서 다루는 핵심 주제 중 하나입니다.\n"
     ]
    }
   ],
   "source": [
    "from langchain.chains import RetrievalQA\n",
    "from langchain.chat_models import ChatOpenAI\n",
    "\n",
    "# ✅ 기본 Similarity Retriever\n",
    "similarity_retriever = pinecone_database.as_retriever(\n",
    "    search_type=\"similarity\",\n",
    "    search_kwargs={\"k\": 3}  # 가장 유사한 top-k 문서 반환\n",
    ")\n",
    "\n",
    "llm = ChatOpenAI(model_name=\"gpt-4-0125-preview\", temperature=0)\n",
    "\n",
    "# QA 체인 생성\n",
    "qa_chain = RetrievalQA.from_chain_type(\n",
    "    llm=llm,\n",
    "    retriever=similarity_retriever,\n",
    "    return_source_documents=True  # 어떤 chunk에서 답을 가져왔는지도 확인 가능\n",
    ")\n",
    "\n",
    "# 질문해보기\n",
    "query = \"공통수학 1 다항식에는 무슨 종류가 있어?\"\n",
    "result = qa_chain(query)\n",
    "\n",
    "print(\"Answer:\", result[\"result\"])\n",
    "# print(\"\\nSource documents:\")\n",
    "# for doc in result[\"source_documents\"]:\n",
    "#     print(doc.metadata, doc.page_content[:100], \"...\")"
   ]
  },
  {
   "cell_type": "markdown",
   "id": "1afc713a",
   "metadata": {},
   "source": [
    "2. Multi-Query Retriver\n",
    "\n",
    "- 원리 : 하나의 사용자 질문을 GPT 등의 LLM이 다양한 방식으로 재표현(paraphrase)하여\n",
    "여러 개의 쿼리를 생성하고, 각각의 쿼리로 벡터 DB에서 검색을 수행한 후,\n",
    "그 결과를 통합(fusion)하여 최종 관련 문서 집합을 구성함"
   ]
  },
  {
   "cell_type": "code",
   "execution_count": 21,
   "id": "69dbf690",
   "metadata": {},
   "outputs": [
    {
     "name": "stdout",
     "output_type": "stream",
     "text": [
      "Answer: 공통수학 1에서 다루는 다항식의 내용 요소로는 다음과 같은 것들이 있습니다:\n",
      "\n",
      "- 다항식의 연산\n",
      "- 나머지 정리\n",
      "- 인수분해\n",
      "\n",
      "이 내용들은 다항식을 구성하는 기본적인 개념과 다항식을 다루는 기본적인 방법들을 포함합니다. 다항식의 종류에 대한 구체적인 명시는 없지만, 일반적으로 다항식은 한 변수 또는 여러 변수에 대한 항들의 합으로 이루어진 식을 말하며, 이 과정에서 학생들은 다항식의 기본적인 형태와 연산, 그리고 이를 활용하는 방법을 배우게 됩니다.\n"
     ]
    }
   ],
   "source": [
    "from langchain.retrievers.multi_query import MultiQueryRetriever\n",
    "\n",
    "multi_query_retriever = MultiQueryRetriever.from_llm(\n",
    "    retriever=pinecone_database.as_retriever(search_kwargs={\"k\": 3}),\n",
    "    llm=llm\n",
    ")\n",
    "\n",
    "# QA 체인 생성\n",
    "qa_chain = RetrievalQA.from_chain_type(\n",
    "    llm=llm,\n",
    "    retriever=multi_query_retriever,\n",
    "    return_source_documents=True  # 어떤 chunk에서 답을 가져왔는지도 확인 가능\n",
    ")\n",
    "\n",
    "# 질문해보기\n",
    "query = \"공통수학 1 다항식에는 무슨 종류가 있어?\"\n",
    "result = qa_chain(query)\n",
    "\n",
    "print(\"Answer:\", result[\"result\"])\n"
   ]
  },
  {
   "cell_type": "markdown",
   "id": "9d014fd9",
   "metadata": {},
   "source": [
    "3. Max Marginal Relevance\n",
    "\n",
    "- 원리 : 사용자의 쿼리와 가장 유사한 문서를 찾되, 이미 선택된 문서들과 중복되지 않도록 다양성(diversity)을 고려해서 문서를 선택"
   ]
  },
  {
   "cell_type": "code",
   "execution_count": 22,
   "id": "0208e914",
   "metadata": {},
   "outputs": [
    {
     "name": "stdout",
     "output_type": "stream",
     "text": [
      "Answer: 공통수학 1에서 다루는 다항식의 내용 요소로는 다음과 같은 것들이 있습니다:\n",
      "\n",
      "- 다항식의 연산\n",
      "- 나머지정리\n",
      "- 인수분해\n",
      "\n",
      "이러한 내용을 통해 다항식과 관련된 다양한 개념과 연산 방법을 배우게 됩니다.\n"
     ]
    }
   ],
   "source": [
    "mmr_retriever = pinecone_database.as_retriever(\n",
    "    search_type=\"mmr\",\n",
    "    search_kwargs={\"k\": 5, \"fetch_k\": 20}  # 다양성 확보\n",
    ")\n",
    "\n",
    "# QA 체인 생성\n",
    "qa_chain = RetrievalQA.from_chain_type(\n",
    "    llm=llm,\n",
    "    retriever=mmr_retriever,\n",
    "    return_source_documents=True  # 어떤 chunk에서 답을 가져왔는지도 확인 가능\n",
    ")\n",
    "\n",
    "# 질문해보기\n",
    "query = \"공통수학 1 다항식에는 무슨 종류가 있어?\"\n",
    "result = qa_chain(query)\n",
    "\n",
    "print(\"Answer:\", result[\"result\"])\n"
   ]
  },
  {
   "cell_type": "markdown",
   "id": "348cdc2d",
   "metadata": {},
   "source": [
    "4. BM25 Retriever\n",
    "- 원리 : 쿼리와 문서 간의 단어 빈도(TF), 역문서 빈도(IDF), 문서 길이 보정 등을 사용해 정확히 일치하는 단어 중심으로 검색"
   ]
  },
  {
   "cell_type": "code",
   "execution_count": 23,
   "id": "a040a8b5",
   "metadata": {},
   "outputs": [
    {
     "name": "stdout",
     "output_type": "stream",
     "text": [
      "Answer: 공통수학 1에서 다루는 다항식의 내용 요소로는 다음이 포함됩니다:\n",
      "\n",
      "- 다항식의 연산\n",
      "- 나머지정리\n",
      "- 인수분해\n",
      "\n",
      "이러한 내용을 통해 학생들은 다항식과 관련된 기본적인 개념과 연산 방법, 나머지정리의 이해 및 활용, 그리고 다항식을 인수분해하는 방법을 학습합니다.\n"
     ]
    }
   ],
   "source": [
    "from langchain_community.retrievers import BM25Retriever\n",
    "from langchain_core.documents import Document\n",
    "from langchain.chains import RetrievalQA\n",
    "\n",
    "# 문서 객체 생성\n",
    "docs = [Document(page_content=chunk) for chunk in chunks]  # chunks는 마크다운 등에서 분리된 텍스트 청크\n",
    "\n",
    "# BM25 리트리버 생성\n",
    "bm25_retriever = BM25Retriever.from_documents(docs)\n",
    "bm25_retriever.k = 5\n",
    "\n",
    "# QA 체인 생성\n",
    "qa_chain = RetrievalQA.from_chain_type(\n",
    "    llm=llm,\n",
    "    retriever=bm25_retriever,\n",
    "    return_source_documents=True\n",
    ")\n",
    "\n",
    "query = \"공통수학 1 다항식에는 무슨 종류가 있어?\"\n",
    "result = qa_chain(query)\n",
    "print(\"Answer:\", result[\"result\"])"
   ]
  },
  {
   "cell_type": "markdown",
   "id": "a5094a02",
   "metadata": {},
   "source": [
    "5. Ensemble Retriever (BM25 + Dense)\n",
    "- 원리  : BM25와 Dense retriever의 결과를 결합하여 키워드 기반과 의미 기반의 장점을 동시에 활용."
   ]
  },
  {
   "cell_type": "code",
   "execution_count": 26,
   "id": "ad5001d7",
   "metadata": {},
   "outputs": [
    {
     "name": "stdout",
     "output_type": "stream",
     "text": [
      "Answer: 공통수학 1에서 다루는 다항식의 내용 요소로는 다음과 같은 것들이 포함됩니다:\n",
      "\n",
      "- 다항식의 연산\n",
      "- 나머지정리\n",
      "- 인수분해\n",
      "\n",
      "이러한 내용을 통해 학생들은 다항식과 관련된 기본적인 개념과 연산 방법, 나머지정리의 활용, 다항식을 인수분해하는 방법 등을 학습하게 됩니다.\n"
     ]
    }
   ],
   "source": [
    "from langchain.retrievers import EnsembleRetriever\n",
    "from langchain.vectorstores import FAISS\n",
    "from langchain.embeddings import OpenAIEmbeddings\n",
    "from langchain_community.retrievers import BM25Retriever\n",
    "\n",
    "# dense (FAISS) retriever\n",
    "embedding = OpenAIEmbeddings()\n",
    "faiss = FAISS.from_documents(docs, embedding)\n",
    "faiss_retriever = faiss.as_retriever(search_kwargs={\"k\": 3})\n",
    "\n",
    "# sparse (BM25)\n",
    "bm25_retriever = BM25Retriever.from_documents(docs)\n",
    "bm25_retriever.k = 3\n",
    "\n",
    "# 앙상블 리트리버\n",
    "ensemble_retriever = EnsembleRetriever(\n",
    "    retrievers=[bm25_retriever, faiss_retriever],\n",
    "    weights=[0.5, 0.5]\n",
    ")\n",
    "\n",
    "qa_chain = RetrievalQA.from_chain_type(\n",
    "    llm=llm,\n",
    "    retriever=ensemble_retriever,\n",
    "    return_source_documents=True\n",
    ")\n",
    "\n",
    "query = \"공통수학 1 다항식에는 무슨 종류가 있어?\"\n",
    "result = qa_chain(query)\n",
    "print(\"Answer:\", result[\"result\"])"
   ]
  },
  {
   "cell_type": "markdown",
   "id": "479e0d37",
   "metadata": {},
   "source": [
    "6. Dense Retriever (FAISS)\n",
    "\n",
    "- 원리 : 문서와 질문을 **벡터화(임베딩)**하고, 코사인 유사도 등의 거리 계산을 통해 가장 가까운 문서를 검색함. 의미 기반 검색의 핵심."
   ]
  },
  {
   "cell_type": "code",
   "execution_count": 27,
   "id": "5cd1f15a",
   "metadata": {},
   "outputs": [
    {
     "name": "stdout",
     "output_type": "stream",
     "text": [
      "Answer: 공통수학 1에서 다루는 다항식의 내용 요소로는 \"다항식의 연산\"과 \"인수분해\"가 있습니다. 이는 다항식을 구성하는 기본적인 개념과 다항식을 간소화하거나 변형하는 방법에 초점을 맞추고 있습니다. 다만, 구체적인 다항식의 종류(예: 일차 다항식, 이차 다항식 등)에 대한 명시는 제공되지 않았습니다. 일반적으로 다항식은 변수의 차수에 따라 분류되며, 이는 공통수학 1 과정에서 학습하는 다항식의 연산 및 인수분해를 통해 더 깊이 이해할 수 있습니다.\n"
     ]
    }
   ],
   "source": [
    "from langchain.retrievers import ContextualCompressionRetriever\n",
    "from langchain.retrievers.document_compressors import EmbeddingsFilter\n",
    "\n",
    "# 기존 FAISS retriever\n",
    "base_retriever = faiss.as_retriever(search_kwargs={\"k\": 5})\n",
    "\n",
    "# 임베딩 기반 문서 필터링\n",
    "compressor = EmbeddingsFilter(embeddings=embedding, similarity_threshold=0.76)\n",
    "\n",
    "compression_retriever = ContextualCompressionRetriever(\n",
    "    base_compressor=compressor,\n",
    "    base_retriever=base_retriever\n",
    ")\n",
    "\n",
    "qa_chain = RetrievalQA.from_chain_type(\n",
    "    llm=llm,\n",
    "    retriever=compression_retriever,\n",
    "    return_source_documents=True\n",
    ")\n",
    "\n",
    "query = \"공통수학 1 다항식에는 무슨 종류가 있어?\"\n",
    "result = qa_chain(query)\n",
    "print(\"Answer:\", result[\"result\"])"
   ]
  },
  {
   "cell_type": "markdown",
   "id": "8fce847b",
   "metadata": {},
   "source": [
    "7. ParentDocumentRetriever\n",
    "\n",
    "- 원리 : 큰 문서를 Parent 단위로 저장하고, 검색 시에는 Parent를 먼저 찾은 뒤,\n",
    "해당 Parent의 하위 청크(child)를 LLM에 전달"
   ]
  },
  {
   "cell_type": "code",
   "execution_count": 31,
   "id": "3e2e7c8a",
   "metadata": {},
   "outputs": [
    {
     "name": "stdout",
     "output_type": "stream",
     "text": [
      "Answer: 공통수학 1에서 다항식의 종류를 살펴보면, 주로 다음과 같은 다양한 형태의 다항식들을 배우게 됩니다:\n",
      "\n",
      "1. **일차 다항식**: 변수의 최고차항이 1인 다항식입니다. 예를 들어, \\(f(x) = 2x + 3\\)과 같은 형태입니다.\n",
      "\n",
      "2. **이차 다항식**: 변수의 최고차항이 2인 다항식입니다. 예를 들어, \\(g(x) = ax^2 + bx + c\\) (\\(a \\neq 0\\))와 같은 형태입니다.\n",
      "\n",
      "3. **삼차 다항식**: 변수의 최고차항이 3인 다항식입니다. 예를 들어, \\(h(x) = 4x^3 - 3x^2 + 2x - 1\\)과 같은 형태입니다.\n",
      "\n",
      "4. **고차 다항식**: 변수의 최고차항이 4 이상인 다항식입니다. 예를 들어, \\(i(x) = 2x^4 - x^3 + 3x^2 - x + 5\\)와 같은 형태입니다.\n",
      "\n",
      "5. **일변수 다항식**: 한 개의 변수만을 포함하는 다항식입니다. 예를 들어, \\(j(x) = 3x^2 - 2x + 1\\)과 같은 형태입니다.\n",
      "\n",
      "6. **다변수 다항식**: 두 개 이상의 변수를 포함하는 다항식입니다. 예를 들어, \\(k(x, y) = x^2 + xy + y^2\\)과 같은 형태입니다.\n",
      "\n",
      "이 외에도 다항식을 구성하는 항의 수에 따라 **단항식**(한 개의 항만을 가진 다항식), **이항식**(두 개의 항을 가진 다항식), **삼항식**(세 개의 항을 가진 다항식) 등으로 구분할 수 있습니다. 다항식의 분류는 그 형태와 변수의 차수에 따라 다양하게 이루어집니다.\n"
     ]
    }
   ],
   "source": [
    "from langchain.retrievers import ParentDocumentRetriever\n",
    "from langchain.storage import InMemoryStore\n",
    "from langchain.text_splitter import RecursiveCharacterTextSplitter\n",
    "\n",
    "# 1. 텍스트 분할기\n",
    "splitter = RecursiveCharacterTextSplitter(chunk_size=1000, chunk_overlap=200)\n",
    "\n",
    "# 2. 문서 저장소\n",
    "docstore = InMemoryStore()\n",
    "\n",
    "# ✅ 3. ParentDocumentRetriever 생성 시 vectorstore 사용!\n",
    "parent_retriever = ParentDocumentRetriever(\n",
    "    vectorstore=pinecone_database,\n",
    "    docstore=docstore,\n",
    "    parent_splitter=splitter,\n",
    "    child_splitter=splitter\n",
    ")\n",
    "\n",
    "# 4. 문서 등록\n",
    "parent_retriever.add_documents(documents)\n",
    "\n",
    "# 5. QA 체인\n",
    "from langchain.chains import RetrievalQA\n",
    "from langchain.chat_models import ChatOpenAI\n",
    "\n",
    "llm = ChatOpenAI(model_name=\"gpt-4-0125-preview\", temperature=0)\n",
    "\n",
    "qa_chain = RetrievalQA.from_chain_type(\n",
    "    llm=llm,\n",
    "    retriever=parent_retriever,\n",
    "    return_source_documents=True\n",
    ")\n",
    "\n",
    "query = \"공통수학 1 다항식에는 무슨 종류가 있어?\"\n",
    "result = qa_chain(query)\n",
    "\n",
    "print(\"Answer:\", result[\"result\"])"
   ]
  },
  {
   "cell_type": "markdown",
   "id": "8ed66086",
   "metadata": {},
   "source": [
    "8. Self-Query Retriever\n",
    "\n",
    "- 원리 : LLM이 사용자 질문을 분석해 질문에서 메타데이터 필터 조건(예: 학과=\"경영대\", 학년=\"3학년\")을 추출하고,\n",
    "이를 기반으로 벡터 검색 + 메타 필터링을 동시에 수행함."
   ]
  },
  {
   "cell_type": "code",
   "execution_count": 32,
   "id": "960de6e1",
   "metadata": {},
   "outputs": [
    {
     "name": "stdout",
     "output_type": "stream",
     "text": [
      "Answer: 공통수학 1에서 다루는 다항식의 내용 요소로는 다음과 같은 것들이 포함됩니다:\n",
      "\n",
      "- 다항식의 연산\n",
      "- 나머지정리\n",
      "- 인수분해\n",
      "\n",
      "이러한 내용을 통해 다항식과 관련된 다양한 개념과 연산 방법을 배우게 됩니다.\n"
     ]
    }
   ],
   "source": [
    "from langchain.retrievers.self_query.base import SelfQueryRetriever\n",
    "from langchain.chains.query_constructor.base import AttributeInfo\n",
    "\n",
    "metadata_field_info = [\n",
    "    AttributeInfo(name=\"source\", description=\"문서 출처\", type=\"string\"),\n",
    "]\n",
    "\n",
    "self_query_retriever = SelfQueryRetriever.from_llm(\n",
    "    llm=llm,\n",
    "    vectorstore=pinecone_database,\n",
    "    document_contents=\"과목에 대한 요약 콘텐츠\",\n",
    "    metadata_field_info=metadata_field_info,\n",
    "    verbose=True\n",
    ")\n",
    "\n",
    "# QA 체인 생성\n",
    "qa_chain = RetrievalQA.from_chain_type(\n",
    "    llm=llm,\n",
    "    retriever=self_query_retriever,\n",
    "    return_source_documents=True  # 어떤 chunk에서 답을 가져왔는지도 확인 가능\n",
    ")\n",
    "\n",
    "# 질문해보기\n",
    "query = \"공통수학 1 다항식에는 무슨 종류가 있어?\"\n",
    "result = qa_chain(query)\n",
    "\n",
    "print(\"Answer:\", result[\"result\"])\n"
   ]
  },
  {
   "cell_type": "code",
   "execution_count": 34,
   "id": "b9e51dae",
   "metadata": {},
   "outputs": [
    {
     "name": "stdout",
     "output_type": "stream",
     "text": [
      "Answer: 공통수학 1과 공통수학 2는 모두 수학의 기초 소양과 학문적 이해를 바탕으로 학생들이 자신의 적성을 개발하고 창의성을 갖춘 사람으로 성장하기 위해 설계된 과목들입니다. 그러나 두 과목은 다루는 내용과 초점에 있어 차이가 있습니다.\n",
      "\n",
      "### 공통수학 1\n",
      "- **주요 내용**: 중학교 ‘변화와 관계’ 영역에서 학습한 다항식, 방정식, 부등식을 심화하고 다양한 유형으로 다루며, ‘자료와 가능성’ 영역에서 학습한 경우의 수를 순열과 조합을 활용하는 방법으로 체계화합니다.\n",
      "- **학습 범주**: 다항식, 방정식과 부등식, 경우의 수, 행렬 등을 포함합니다.\n",
      "\n",
      "### 공통수학 2\n",
      "- **주요 내용**: 중학교 ‘변화와 관계’ 영역에서 학습한 함수의 개념을 확장하고, ‘도형과 측정’ 영역에서 학습한 원과 직선을 방정식으로 다룹니다.\n",
      "- **학습 범주**: 도형의 방정식, 집합과 명제, 함수와 그래프 등을 포함합니다.\n",
      "\n",
      "요약하자면, **공통수학 1**은 다항식, 방정식, 부등식, 경우의 수, 행렬 등의 기본적인 수학적 개념과 원리를 심화하여 다루는 반면, **공통수학 2**는 함수의 개념 확장, 도형의 방정식, 집합과 명제, 그리고 함수와 그래프에 대한 학습에 더 중점을 둡니다. 따라서 두 과목은 수학의 다양한 영역을 폭넓게 다루면서도 각기 다른 주제에 초점을 맞추고 있습니다.\n"
     ]
    }
   ],
   "source": [
    "from langchain.retrievers import EnsembleRetriever\n",
    "from langchain.retrievers.multi_query import MultiQueryRetriever\n",
    "from langchain.retrievers.self_query.base import SelfQueryRetriever\n",
    "from langchain.chains.query_constructor.base import AttributeInfo\n",
    "from langchain.chains import RetrievalQA\n",
    "from langchain.chat_models import ChatOpenAI\n",
    "\n",
    "# LLM 준비\n",
    "llm = ChatOpenAI(model_name=\"gpt-4-0125-preview\", temperature=0)\n",
    "\n",
    "# ✅ 1. 기본 similarity retriever\n",
    "similarity_retriever = pinecone_database.as_retriever(search_kwargs={\"k\": 3})\n",
    "\n",
    "# ✅ 2. MultiQuery retriever\n",
    "multi_query_retriever = MultiQueryRetriever.from_llm(\n",
    "    retriever=similarity_retriever,\n",
    "    llm=llm\n",
    ")\n",
    "\n",
    "# ✅ 3. SelfQuery retriever\n",
    "metadata_field_info = [\n",
    "    AttributeInfo(\n",
    "        name=\"source\",\n",
    "        description=\"문서의 주제 또는 분야 (예: 고교학점제, 진로상담, 독서추천 등)\",\n",
    "        type=\"text\"\n",
    "    )\n",
    "]\n",
    "\n",
    "self_query_retriever = SelfQueryRetriever.from_llm(\n",
    "    llm=llm,\n",
    "    vectorstore=pinecone_database,\n",
    "    document_contents=\"입시 및 행정 문서 내용 요약\",\n",
    "    metadata_field_info=metadata_field_info,\n",
    "    verbose=True\n",
    ")\n",
    "\n",
    "# ✅ 4. 앙상블 리트리버로 결합 (각 리트리버의 weight는 필요시 조정)\n",
    "ensemble_retriever = EnsembleRetriever(\n",
    "    retrievers=[similarity_retriever, multi_query_retriever, self_query_retriever],\n",
    "    weights=[0.3, 0.4, 0.3]\n",
    ")\n",
    "\n",
    "# ✅ 5. QA 체인 구성\n",
    "qa_chain = RetrievalQA.from_chain_type(\n",
    "    llm=llm,\n",
    "    retriever=ensemble_retriever,\n",
    "    return_source_documents=True\n",
    ")\n",
    "\n",
    "# ✅ 6. 질의 실행\n",
    "query = \"공통수학 1과 공통수학 2의 차이가 뭐야\"\n",
    "result = qa_chain(query)\n",
    "\n",
    "print(\"Answer:\", result[\"result\"])"
   ]
  },
  {
   "cell_type": "code",
   "execution_count": 36,
   "id": "7cd0f3c1",
   "metadata": {},
   "outputs": [
    {
     "name": "stdout",
     "output_type": "stream",
     "text": [
      "Answer: 공통수학 1과 공통수학 2는 모두 수학의 기초 소양과 학문적 이해를 바탕으로 학생들이 자신의 적성을 개발하고 창의성을 갖추도록 설계된 과목이지만, 다루는 내용과 초점에 차이가 있습니다.\n",
      "\n",
      "### 공통수학 1\n",
      "- 중학교 ‘변화와 관계’ 영역에서 배운 다항식, 방정식, 부등식을 심화하여 다루며, 다양한 유형으로 접근합니다.\n",
      "- ‘자료와 가능성’ 영역에서 배운 경우의 수를 순열과 조합을 활용하는 방법으로 체계화합니다.\n",
      "- 주요 내용 요소로는 다항식의 연산, 나머지 정리, 인수분해, 복소수와 이차방정식, 이차방정식과 이차함수, 여러 가지 방정식과 부등식, 합의 법칙과 곱의 법칙, 순열과 조합, 행렬과 그 연산 등이 포함됩니다.\n",
      "\n",
      "### 공통수학 2\n",
      "- 중학교 ‘변화와 관계’ 영역에서 배운 함수의 개념을 확장하고, ‘도형과 측정’ 영역에서 배운 원과 직선을 방정식으로 다룹니다.\n",
      "- 주요 내용 요소로는 평면좌표, 직선의 방정식, 원의 방정식, 도형의 이동, 집합, 명제, 함수, 유리함수와 무리함수 등이 포함됩니다.\n",
      "\n",
      "결론적으로, **공통수학 1**은 다항식, 방정식, 부등식, 경우의 수, 행렬 등의 기본적인 수학적 개념과 원리를 심화하여 다루는 반면, **공통수학 2**는 함수의 개념 확장, 도형의 방정식, 집합과 명제, 그리고 함수와 그래프 등 좀 더 고급 수학적 개념과 원리를 다룹니다.\n"
     ]
    }
   ],
   "source": [
    "# ✅ 1. Similarity Retriever (기본 벡터 검색)\n",
    "similarity_retriever = pinecone_database.as_retriever(\n",
    "    search_type=\"similarity\",\n",
    "    search_kwargs={\"k\": 3}\n",
    ")\n",
    "\n",
    "# ✅ 2. MultiQuery Retriever\n",
    "multi_query_retriever = MultiQueryRetriever.from_llm(\n",
    "    retriever=similarity_retriever,  # 내부적으로 similarity 사용\n",
    "    llm=llm\n",
    ")\n",
    "\n",
    "# ✅ 3. 앙상블 리트리버 생성\n",
    "ensemble_retriever = EnsembleRetriever(\n",
    "    retrievers=[similarity_retriever, multi_query_retriever],\n",
    "    weights=[0.5, 0.5]  # 가중치는 필요에 따라 조정 가능\n",
    ")\n",
    "\n",
    "# ✅ 4. QA 체인 생성\n",
    "qa_chain = RetrievalQA.from_chain_type(\n",
    "    llm=llm,\n",
    "    retriever=ensemble_retriever,\n",
    "    return_source_documents=True\n",
    ")\n",
    "\n",
    "# ✅ 5. 질문 테스트\n",
    "query = \"공통수학 1과 공통수학 2의 차이가 뭐야\"\n",
    "result = qa_chain(query)\n",
    "\n",
    "print(\"Answer:\", result[\"result\"])"
   ]
  }
 ],
 "metadata": {
  "kernelspec": {
   "display_name": "bearable",
   "language": "python",
   "name": "python3"
  },
  "language_info": {
   "codemirror_mode": {
    "name": "ipython",
    "version": 3
   },
   "file_extension": ".py",
   "mimetype": "text/x-python",
   "name": "python",
   "nbconvert_exporter": "python",
   "pygments_lexer": "ipython3",
   "version": "3.13.2"
  }
 },
 "nbformat": 4,
 "nbformat_minor": 5
}
