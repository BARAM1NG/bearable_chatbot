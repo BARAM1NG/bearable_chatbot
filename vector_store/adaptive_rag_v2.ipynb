{
 "cells": [
  {
   "cell_type": "markdown",
   "metadata": {},
   "source": [
    "## 00. 프로젝트 목적\n",
    "\n",
    "- 본 프로젝트는 Adaptive RAG를 위한 프로젝트입니다."
   ]
  },
  {
   "cell_type": "markdown",
   "metadata": {},
   "source": [
    "-  프로젝트 설명\n",
    "\n",
    "- 고교학점제 전용 챗봇이라는 큰 틀을 먼저 잡고, 그 아래 세부 카테고리를 재정의\n",
    "    - 운영 문의: 제도, 졸업 요건, 교과 이수 기준 등\n",
    "    - 과목 선택: 계열/진로 관련 과목, 이수 단위 관련 질문\n",
    "    - 입시 연계: 대입, 학과, 진학에 유리한 과목 조합 등\n",
    "    - 도서/자료 추천: 진로에 맞는 책이나 자료\n",
    "    - 서비스 이용 문의: 챗봇 사용법, 시스템 오류 등"
   ]
  },
  {
   "cell_type": "markdown",
   "metadata": {},
   "source": [
    "### 필요한 환경변수 정의"
   ]
  },
  {
   "cell_type": "code",
   "execution_count": 1,
   "metadata": {},
   "outputs": [],
   "source": [
    "# API 키를 환경변수로 관리하기 위한 설정 파일\n",
    "from dotenv import load_dotenv\n",
    "import os\n",
    "\n",
    "# API 키 정보 로드\n",
    "load_dotenv()\n",
    "\n",
    "# API 키 읽어오기\n",
    "openai_api_key = os.environ.get('OPENAI_API_KEY')\n",
    "pinecone_api_key = os.environ.get(\"PINECONE_API_KEY\")"
   ]
  },
  {
   "cell_type": "markdown",
   "metadata": {},
   "source": [
    "## 01. Tool 정의"
   ]
  },
  {
   "cell_type": "code",
   "execution_count": 2,
   "metadata": {},
   "outputs": [
    {
     "name": "stderr",
     "output_type": "stream",
     "text": [
      "c:\\Users\\82106\\AppData\\Local\\Programs\\Python\\Python39\\lib\\site-packages\\tqdm\\auto.py:21: TqdmWarning: IProgress not found. Please update jupyter and ipywidgets. See https://ipywidgets.readthedocs.io/en/stable/user_install.html\n",
      "  from .autonotebook import tqdm as notebook_tqdm\n"
     ]
    }
   ],
   "source": [
    "from langchain_pinecone import PineconeVectorStore\n",
    "from langchain_openai import OpenAIEmbeddings\n",
    "from langchain_core.documents import Document\n",
    "from langchain_community.tools import TavilySearchResults\n",
    "from langchain_core.tools import tool\n",
    "from typing import List"
   ]
  },
  {
   "cell_type": "code",
   "execution_count": 3,
   "metadata": {},
   "outputs": [],
   "source": [
    "# OpenAI 임베딩 인스턴스 생성\n",
    "embeddings = OpenAIEmbeddings(\n",
    "    model='text-embedding-3-large',\n",
    "    openai_api_key=openai_api_key\n",
    ")"
   ]
  },
  {
   "cell_type": "code",
   "execution_count": 4,
   "metadata": {},
   "outputs": [],
   "source": [
    "# 운영 문의 정보 검색\n",
    "pinecone_policy = PineconeVectorStore.from_documents(\n",
    "    documents=[], # 빈 리스트로 초기화\n",
    "    index_name=\"mypolio-curriculums\",   # 인덱스 이름\n",
    "    embedding=embeddings,               # 임베딩 인스턴스\n",
    "    pinecone_api_key=pinecone_api_key,\n",
    "    namespace=\"policy\", # 네임스페이스 설정 : 운영 문의 -> policy\n",
    ")\n",
    "\n",
    "# 운영 정보 검색 tool 정의\n",
    "@tool\n",
    "def search_policy(query: str) -> List[Document]:\n",
    "    \"\"\"\n",
    "    Securely search and access operational information related to the High School Credit System,\n",
    "    including graduation requirements, academic regulations, subject completion standards, and general policy guidelines.\n",
    "\n",
    "    To maintain data integrity and clarity, use this tool only for questions about system operations of the High School Credit System,\n",
    "    such as curriculum rules, credit units, or graduation criteria.\n",
    "    \"\"\"\n",
    "    docs = pinecone_policy.similarity_search(query, k=2)\n",
    "    if len(docs) > 0:\n",
    "        return docs\n",
    "    \n",
    "    return [Document(page_content=\"관련 정보를 찾을 수 없습니다.\")]"
   ]
  },
  {
   "cell_type": "code",
   "execution_count": 5,
   "metadata": {},
   "outputs": [],
   "source": [
    "# 과목 정보 검색\n",
    "pinecone_subject = PineconeVectorStore.from_documents(\n",
    "    documents=[], # 빈 리스트로 초기화\n",
    "    index_name=\"mypolio-curriculums\",   # 인덱스 이름\n",
    "    embedding=embeddings,               # 임베딩 인스턴스\n",
    "    pinecone_api_key=pinecone_api_key,\n",
    "    namespace=\"subject\", # 네임스페이스 설정: 과목 문의 -> subject\n",
    ")\n",
    "\n",
    "# 과목 점보 검색 tool 정의\n",
    "@tool\n",
    "def search_subject(query: str) -> List[Document]:\n",
    "    \"\"\"\n",
    "    Securely search and access information about subject within the High School Credit System,  \n",
    "    including subject descriptions, learning objectives, curriculum content, and their relevance to specific career paths.\n",
    "\n",
    "    To ensure appropriate guidance, use this tool only for questions related to subject within the High School Credit System\n",
    "    \"\"\"\n",
    "    docs = pinecone_subject.similarity_search(query, k=2)\n",
    "    if len(docs) > 0:\n",
    "        return docs\n",
    "    \n",
    "    return [Document(page_content=\"관련 정보를 찾을 수 없습니다.\")]"
   ]
  },
  {
   "cell_type": "code",
   "execution_count": 6,
   "metadata": {},
   "outputs": [],
   "source": [
    "# 입시 정보 검색\n",
    "pinecone_admission = PineconeVectorStore.from_documents(\n",
    "    documents=[], # 빈 리스트로 초기화\n",
    "    index_name=\"mypolio-curriculums\",   # 인덱스 이름\n",
    "    embedding=embeddings,               # 임베딩 인스턴스\n",
    "    pinecone_api_key=pinecone_api_key,\n",
    "    namespace=\"admission\", # 네임스페이스 설정: 과목 문의 -> subject\n",
    ")\n",
    "\n",
    "# 입시 점보 검색 tool 정의\n",
    "@tool\n",
    "def search_admission(query: str) -> List[Document]:\n",
    "    \"\"\"\n",
    "    Securely search and access information related to college admissions in the context of the High School Credit System,  \n",
    "    including university overviews, academic majors, academic tracks (계열), and admission procedures.\n",
    "\n",
    "    To maintain clarity and relevance, use this tool only for questions about college and major selection,  \n",
    "    such as introductions to specific universities, departments, or entrance examination methods.\n",
    "    \"\"\"\n",
    "\n",
    "    docs = pinecone_admission.similarity_search(query, k=2)\n",
    "    if len(docs) > 0:\n",
    "        return docs\n",
    "    \n",
    "    return [Document(page_content=\"관련 정보를 찾을 수 없습니다.\")]"
   ]
  },
  {
   "cell_type": "code",
   "execution_count": 7,
   "metadata": {},
   "outputs": [],
   "source": [
    "# 도서 정보 검색\n",
    "pinecone_book = PineconeVectorStore.from_documents(\n",
    "    documents=[], # 빈 리스트로 초기화\n",
    "    index_name=\"mypolio-curriculums\",   # 인덱스 이름\n",
    "    embedding=embeddings,               # 임베딩 인스턴스\n",
    "    pinecone_api_key=pinecone_api_key,\n",
    "    namespace=\"book\", # 네임스페이스 설정: 과목 문의 -> subject\n",
    ")\n",
    "\n",
    "# 도서 추천 검색 tool 정의\n",
    "@tool\n",
    "def search_book(query: str) -> List[Document]:\n",
    "    \"\"\"\n",
    "    Search and access book recommendations tailored to specific majors or academic tracks,  \n",
    "    along with brief summaries for each recommended title.\n",
    "\n",
    "    Use this tool only for questions about books related to a student’s interests or field of study.\n",
    "    \"\"\"\n",
    "\n",
    "    docs = pinecone_book.similarity_search(query, k=2)\n",
    "    if len(docs) > 0:\n",
    "        return docs\n",
    "    \n",
    "    return [Document(page_content=\"관련 정보를 찾을 수 없습니다.\")]"
   ]
  },
  {
   "cell_type": "code",
   "execution_count": 8,
   "metadata": {},
   "outputs": [],
   "source": [
    "# 서비스 관련 정보 검색\n",
    "pinecone_service = PineconeVectorStore.from_documents(\n",
    "    documents=[], # 빈 리스트로 초기화\n",
    "    index_name=\"mypolio-curriculums\",   # 인덱스 이름\n",
    "    embedding=embeddings,               # 임베딩 인스턴스\n",
    "    pinecone_api_key=pinecone_api_key,\n",
    "    namespace=\"service\", # 네임스페이스 설정: 고교학점제 -> curriculum, 진로&진학 상담 -> course, 서비스 문의 -> service\n",
    ")\n",
    "\n",
    "# 서비스 검색\n",
    "@tool\n",
    "def search_service(query: str) -> List[str]:\n",
    "    \"\"\"\n",
    "    Securely search and access service-related information for the Myfolio service-related information,  \n",
    "    including how to use the chatbot and how to resolve issues related to the Myfolio service.\n",
    "\n",
    "    Use this tool only for service-related queries, such as usage instructions or customer support requests.\n",
    "    \"\"\"\n",
    "\n",
    "    docs = pinecone_service.similarity_search(query, k=2)\n",
    "    if len(docs) > 0:\n",
    "        return docs\n",
    "    \n",
    "    return [Document(page_content=\"관련 정보를 찾을 수 없습니다.\")]"
   ]
  },
  {
   "cell_type": "code",
   "execution_count": 9,
   "metadata": {},
   "outputs": [],
   "source": [
    "# 도구 목록을 정의 \n",
    "tools = [search_policy, search_subject, search_admission, search_book, search_service]"
   ]
  },
  {
   "cell_type": "code",
   "execution_count": 10,
   "metadata": {},
   "outputs": [],
   "source": [
    "# 너의 툴 이름과 함수 맵핑\n",
    "tool_map = {\n",
    "    \"search_policy\": search_policy,\n",
    "    \"search_subject\": search_subject,\n",
    "    \"search_admission\": search_admission,\n",
    "    \"search_book\": search_book,\n",
    "    \"search_service\": search_service,\n",
    "}\n",
    "\n",
    "def run_tool_and_get_output(question: str) -> dict:\n",
    "    # 툴 선택 (output은 안 나옴)\n",
    "    result = question_router.invoke({\"question\": question})\n",
    "    tool_name = result.tool\n",
    "\n",
    "    # 툴 실행 (직접 실행해야 함)\n",
    "    if tool_name in tool_map:\n",
    "        output = tool_map[tool_name](question)  # 여기에 실제 검색 결과가 담김\n",
    "    else:\n",
    "        output = None\n",
    "\n",
    "    return {\n",
    "        \"tool\": tool_name,\n",
    "        \"output\": output\n",
    "    }"
   ]
  },
  {
   "cell_type": "code",
   "execution_count": 11,
   "metadata": {},
   "outputs": [],
   "source": [
    "from langchain_openai import ChatOpenAI\n",
    "from pprint import pprint\n",
    "\n",
    "# 기본 LLM\n",
    "llm = ChatOpenAI(model=\"gpt-4o-mini\", temperature=0, streaming=True)\n",
    "\n",
    "# LLM에 도구 바인딩하여 추가 \n",
    "llm_with_tools = llm.bind_tools(tools)"
   ]
  },
  {
   "cell_type": "code",
   "execution_count": 12,
   "metadata": {},
   "outputs": [
    {
     "name": "stdout",
     "output_type": "stream",
     "text": [
      "AIMessage(content='', additional_kwargs={'tool_calls': [{'index': 0, 'id': 'call_L0EUU8tvEY4wcL8uN0uaNbXo', 'function': {'arguments': '{\"query\":\"고교학점제 졸업요건\"}', 'name': 'search_policy'}, 'type': 'function'}]}, response_metadata={'finish_reason': 'tool_calls', 'model_name': 'gpt-4o-mini-2024-07-18', 'system_fingerprint': 'fp_92e0377081'}, id='run--698bd398-6fc3-4bbd-a2b9-8304c3116132-0', tool_calls=[{'name': 'search_policy', 'args': {'query': '고교학점제 졸업요건'}, 'id': 'call_L0EUU8tvEY4wcL8uN0uaNbXo', 'type': 'tool_call'}])\n",
      "----------------------------------------------------------------------------------------------------\n",
      "''\n",
      "----------------------------------------------------------------------------------------------------\n",
      "[{'args': {'query': '고교학점제 졸업요건'},\n",
      "  'id': 'call_L0EUU8tvEY4wcL8uN0uaNbXo',\n",
      "  'name': 'search_policy',\n",
      "  'type': 'tool_call'}]\n",
      "----------------------------------------------------------------------------------------------------\n"
     ]
    }
   ],
   "source": [
    "# 메뉴 검색에 관련된 질문을 하는 경우 -> 메뉴 검색 도구를 호출  \n",
    "query = \"고교학점제 졸업요건에 대해 설명해줘\"\n",
    "ai_msg = llm_with_tools.invoke(query)\n",
    "\n",
    "pprint(ai_msg)\n",
    "print(\"-\" * 100)\n",
    "\n",
    "pprint(ai_msg.content)\n",
    "print(\"-\" * 100)\n",
    "\n",
    "pprint(ai_msg.tool_calls)\n",
    "print(\"-\" * 100)"
   ]
  },
  {
   "cell_type": "markdown",
   "metadata": {},
   "source": [
    "## 02. State 정의"
   ]
  },
  {
   "cell_type": "code",
   "execution_count": 13,
   "metadata": {},
   "outputs": [],
   "source": [
    "from typing import TypedDict, List\n",
    "from langchain_core.documents import Document\n",
    "\n",
    "# 상태 Schema 정의 \n",
    "class AdaptiveRagState(TypedDict):\n",
    "    question: str\n",
    "    documents: List[Document]\n",
    "    generation: str"
   ]
  },
  {
   "cell_type": "markdown",
   "metadata": {},
   "source": [
    "## 03. 질문 분석 후 라우팅"
   ]
  },
  {
   "cell_type": "code",
   "execution_count": 14,
   "metadata": {},
   "outputs": [
    {
     "name": "stdout",
     "output_type": "stream",
     "text": [
      "tool='search_policy'\n",
      "tool='search_subject'\n",
      "tool='search_admission'\n",
      "tool='search_book'\n",
      "tool='search_service'\n"
     ]
    }
   ],
   "source": [
    "from typing import Literal\n",
    "from langchain_core.prompts import ChatPromptTemplate\n",
    "from pydantic import BaseModel, Field\n",
    "from textwrap import dedent\n",
    "\n",
    "# 라우팅 결정용 데이터 모델\n",
    "class ToolSelector(BaseModel):\n",
    "    \"\"\"Routes the user question to the most appropriate tool.\"\"\"\n",
    "    tool: Literal[\n",
    "        \"search_policy\", \n",
    "        \"search_subject\", \n",
    "        \"search_admission\", \n",
    "        \"search_book\", \n",
    "        \"search_service\"\n",
    "    ] = Field(\n",
    "        description=\"Select one of the tools: search_policy, search_subject, search_admission, search_books, or search_service based on the user's question.\"\n",
    "    )\n",
    "\n",
    "# 구조화된 출력을 위한 LLM 설정\n",
    "structured_llm = llm.with_structured_output(ToolSelector)\n",
    "\n",
    "# 라우팅을 위한 프롬프트 템플릿\n",
    "system = dedent(\"\"\"You are a high school curriculum chatbot that classifies user questions into one of five categories.\n",
    "\n",
    "Use the following routing rules:\n",
    "- For questions about 고교학점제 운영, graduation requirements, or subject completion standards, use the **search_policy** tool.\n",
    "- For questions about 과목 정보, 학습 내용, or recommended subjects for careers, use the **search_subject** tool.\n",
    "- For questions about 대학/전공/계열 소개 or 입학 전형, use the **search_admission** tool.\n",
    "- For questions requesting 전공/계열 관련 도서 추천 or brief summaries of specific books, use the **search_book** tool.\n",
    "- For questions about how to use the chatbot or MyPolio service issues, use the **search_service** tool.\n",
    "\n",
    "Always select the most appropriate tool based on the user's intent.\n",
    "\"\"\")\n",
    "\n",
    "route_prompt = ChatPromptTemplate.from_messages(\n",
    "    [\n",
    "        (\"system\", system),\n",
    "        (\"human\", \"{question}\"),\n",
    "    ]\n",
    ")\n",
    "\n",
    "# 질문 라우터 정의\n",
    "question_router = route_prompt | structured_llm\n",
    "\n",
    "# 테스트 실행\n",
    "print(question_router.invoke({\"question\": \"고교학점제 졸업 요건에 대해 설명해줘\"}))\n",
    "print(question_router.invoke({\"question\": \"경영학과 가고 싶은데, 어떤 과목을 들어야 하나요?\"}))\n",
    "print(question_router.invoke({\"question\": \"서울대학교 경영학과에 대해 알려줘.\"}))\n",
    "print(question_router.invoke({\"question\": \"경영학과에 도움되는 도서 추천해줘.\"}))\n",
    "print(question_router.invoke({\"question\": \"베어러블의 세특 추천 서비스 이용 방법이 궁금해요.\"}))"
   ]
  },
  {
   "cell_type": "code",
   "execution_count": 15,
   "metadata": {},
   "outputs": [],
   "source": [
    "def route_question_adaptive(state: AdaptiveRagState) -> Literal[\n",
    "    \"search_policy\", \"search_subject\", \"search_admission\", \"search_book\", \"search_service\", \"llm_fallback\"\n",
    "]:\n",
    "    question = state[\"question\"]\n",
    "    try:\n",
    "        result = run_tool_and_get_output(question)\n",
    "        datasource = result[\"tool\"]\n",
    "        output = result[\"output\"]\n",
    "\n",
    "        # output이 문서 리스트고, 전부 '관련 정보를 찾을 수 없습니다'이면 fallback\n",
    "        if isinstance(output, list):\n",
    "            all_pages = [doc.page_content for doc in output]\n",
    "            if all(\"관련 정보를 찾을 수 없습니다\" in page for page in all_pages):\n",
    "                return \"llm_fallback\"\n",
    "\n",
    "        return datasource if datasource in tool_map else \"llm_fallback\"\n",
    "\n",
    "    except Exception as e:\n",
    "        print(f\"Error in routing: {str(e)}\")\n",
    "        return \"llm_fallback\""
   ]
  },
  {
   "cell_type": "markdown",
   "metadata": {},
   "source": [
    "## 04. 검색 노드 설정"
   ]
  },
  {
   "cell_type": "code",
   "execution_count": 16,
   "metadata": {},
   "outputs": [],
   "source": [
    "def search_policy_adaptive(state: AdaptiveRagState):\n",
    "    \"\"\"\n",
    "    Node for searching information in the 고교학점제 운영\n",
    "    \"\"\"\n",
    "    question = state[\"question\"]\n",
    "    docs = search_policy.invoke(question)\n",
    "    if len(docs) > 0:\n",
    "        return {\"documents\": docs}\n",
    "    else:\n",
    "        return {\"documents\": [Document(page_content=\"관련 고교학점제 운영 정보를 찾을 수 없습니다.\")]}\n",
    "\n",
    "\n",
    "def search_subject_adaptive(state: AdaptiveRagState):\n",
    "    \"\"\"\n",
    "    Node for searching information in the subject whthin the 고교학점제\n",
    "    \"\"\"\n",
    "    question = state[\"question\"]\n",
    "    docs = search_subject.invoke(question)\n",
    "    if len(docs) > 0:\n",
    "        return {\"documents\": docs}\n",
    "    else:\n",
    "        return {\"documents\": [Document(page_content=\"관련 과목 정보를 찾을 수 없습니다.\")]}\n",
    "\n",
    "def search_admission_adaptive(state: AdaptiveRagState):\n",
    "    \"\"\"\n",
    "    Node for searching information in the admission\n",
    "    \"\"\"\n",
    "    question = state[\"question\"]\n",
    "    docs = search_admission.invoke(question)\n",
    "    if len(docs) > 0:\n",
    "        return {\"documents\": docs}\n",
    "    else:\n",
    "        return {\"documents\": [Document(page_content=\"관련 입시 정보를 찾을 수 없습니다.\")]}\n",
    "\n",
    "def search_book_adaptive(state: AdaptiveRagState):\n",
    "    \"\"\"\n",
    "    Node for searching information in the book\n",
    "    \"\"\"\n",
    "    question = state[\"question\"]\n",
    "    docs = search_book.invoke(question)\n",
    "    if len(docs) > 0:\n",
    "        return {\"documents\": docs}\n",
    "    else:\n",
    "        return {\"documents\": [Document(page_content=\"관련 도서 정보를 찾을 수 없습니다.\")]}\n",
    "\n",
    "\n",
    "def search_service_adaptive(state: AdaptiveRagState):\n",
    "    \"\"\"\n",
    "    Node for searching the 베어러블 service information\n",
    "    \"\"\"\n",
    "    question = state[\"question\"]\n",
    "    docs = search_service.invoke(question)\n",
    "    if len(docs) > 0:\n",
    "        return {\"documents\": docs}\n",
    "    else:\n",
    "        return {\"documents\": [Document(page_content=\"관련 베어러블 서비스 정보를 찾을 수 없습니다.\")]}"
   ]
  },
  {
   "cell_type": "markdown",
   "metadata": {},
   "source": [
    "## 05. 생성노드"
   ]
  },
  {
   "cell_type": "code",
   "execution_count": 17,
   "metadata": {},
   "outputs": [],
   "source": [
    "from langchain_core.output_parsers import StrOutputParser\n",
    "from langchain_core.prompts import ChatPromptTemplate\n",
    "\n",
    "# RAG 프롬프트 정의\n",
    "rag_prompt = ChatPromptTemplate.from_messages([\n",
    "    (\"system\", \"\"\"You are an assistant answering questions based on provided documents. Follow these guidelines:\n",
    "\n",
    "1. Use only information from the given documents.\n",
    "2. If the document lacks relevant info, say \"The provided documents don't contain information to answer this question.\"\n",
    "3. Cite relevant parts of the document in your answers.\n",
    "4. Don't speculate or add information not in the documents.\n",
    "5. Keep answers concise and clear.\n",
    "6. Omit irrelevant information.\n",
    "7. 관련된 문서가 없을 경우, \n",
    "   \"The provided documents don't contain information to answer this question.\"라고 답변해줘.\"\"\"\n",
    "),\n",
    "    (\"human\", \"Answer the following question using these documents:\\n\\n[Documents]\\n{documents}\\n\\n[Question]\\n{question}\"),\n",
    "])\n",
    "\n",
    "def generate_adaptive(state: AdaptiveRagState):\n",
    "    \"\"\"\n",
    "    Generate answer using the retrieved_documents\n",
    "    \"\"\"\n",
    "    question = state.get(\"question\", None)\n",
    "    documents = state.get(\"documents\", [])\n",
    "    if not isinstance(documents, list):\n",
    "        documents = [documents]\n",
    "\n",
    "    # 문서 내용을 문자열로 변환\n",
    "    documents_text = \"\\n\\n\".join([f\"---\\n본문: {doc.page_content}\\n메타데이터:{str(doc.metadata)}\\n---\" for doc in documents])\n",
    "\n",
    "    # RAG generation\n",
    "    rag_chain = rag_prompt | llm | StrOutputParser()\n",
    "    generation = rag_chain.invoke({\"documents\": documents_text, \"question\": question})\n",
    "    return {\"generation\": generation}"
   ]
  },
  {
   "cell_type": "code",
   "execution_count": 18,
   "metadata": {},
   "outputs": [],
   "source": [
    "# LLM Fallback 프롬프트 정의\n",
    "fallback_prompt = ChatPromptTemplate.from_messages([\n",
    "    (\"system\", \"\"\"You are an AI assistant helping with various topics. Follow these guidelines:\n",
    "\n",
    "There are two possible situations:\n",
    "\n",
    "1. If the {question} is relevant to topics like school policies, curriculum, admissions, book, or services 등 학교에 관련된 정보,\n",
    "    respond by clearly stating: \"관련된 문서를 찾을 수 없습니다.\"\n",
    "\n",
    "2. If the question is unrelated to those topics (e.g., public holidays, general culture, history, daily life),\n",
    "   simply answer it using your general knowledge.\n",
    "\n",
    "In all cases:\n",
    "- Provide accurate and helpful information to the best of your ability.\n",
    "- Express uncertainty when unsure; avoid speculation.\n",
    "- Keep answers concise yet informative.\n",
    "- Inform users they can ask for clarification if needed.\n",
    "- Respond ethically and constructively.\n",
    "- Mention reliable general sources when applicable if needed.\n",
    "\"\"\"),\n",
    "    (\"human\", \"{question}\"),\n",
    "])\n",
    "\n",
    "def llm_fallback_adaptive(state: AdaptiveRagState):\n",
    "    \"\"\"\n",
    "    Generate answer using the LLM without context\n",
    "    \"\"\"\n",
    "    question = state.get(\"question\", \"\")\n",
    "    \n",
    "    # LLM chain\n",
    "    llm_chain = fallback_prompt | llm | StrOutputParser()\n",
    "    \n",
    "    generation = llm_chain.invoke({\"question\": question})\n",
    "    return {\"generation\": generation}"
   ]
  },
  {
   "cell_type": "markdown",
   "metadata": {},
   "source": [
    "## 06. 그래프 연결"
   ]
  },
  {
   "cell_type": "code",
   "execution_count": 19,
   "metadata": {},
   "outputs": [
    {
     "data": {
      "image/png": "[encoded data removed]",
      "text/plain": [
       "<IPython.core.display.Image object>"
      ]
     },
     "metadata": {},
     "output_type": "display_data"
    }
   ],
   "source": [
    "from langgraph.graph import StateGraph, START, END\n",
    "from IPython.display import Image, display\n",
    "\n",
    "# 그래프 구성\n",
    "builder = StateGraph(AdaptiveRagState)\n",
    "\n",
    "# 노드 추가\n",
    "builder.add_node(\"search_policy\", search_policy_adaptive)\n",
    "builder.add_node(\"search_subject\", search_subject_adaptive)\n",
    "builder.add_node(\"search_admission\", search_admission_adaptive)\n",
    "builder.add_node(\"search_book\", search_book_adaptive)\n",
    "builder.add_node(\"search_service\", search_service_adaptive)\n",
    "\n",
    "# 생성 & fallback 노드\n",
    "builder.add_node(\"generate\", generate_adaptive)\n",
    "builder.add_node(\"llm_fallback\", llm_fallback_adaptive)\n",
    "\n",
    "# 조건부 라우팅 추가\n",
    "builder.add_conditional_edges(\n",
    "    START,\n",
    "    route_question_adaptive\n",
    ")\n",
    "\n",
    "# 각 검색 → generate 연결\n",
    "builder.add_edge(\"search_policy\", \"generate\")\n",
    "builder.add_edge(\"search_subject\", \"generate\")\n",
    "builder.add_edge(\"search_admission\", \"generate\")\n",
    "builder.add_edge(\"search_book\", \"generate\")\n",
    "builder.add_edge(\"search_service\", \"generate\")\n",
    "\n",
    "# generate → END\n",
    "builder.add_edge(\"generate\", END)\n",
    "\n",
    "# fallback → END\n",
    "builder.add_edge(\"llm_fallback\", END)\n",
    "\n",
    "# 그래프 컴파일\n",
    "adaptive_rag = builder.compile()\n",
    "\n",
    "# 그래프 시각화\n",
    "display(Image(adaptive_rag.get_graph().draw_mermaid_png(max_retries=5, retry_delay=2.0)))"
   ]
  },
  {
   "cell_type": "code",
   "execution_count": 20,
   "metadata": {},
   "outputs": [
    {
     "name": "stderr",
     "output_type": "stream",
     "text": [
      "C:\\Users\\82106\\AppData\\Local\\Temp\\ipykernel_26708\\4078414276.py:17: LangChainDeprecationWarning: The method `BaseTool.__call__` was deprecated in langchain-core 0.1.47 and will be removed in 1.0. Use :meth:`~invoke` instead.\n",
      "  output = tool_map[tool_name](question)  # 여기에 실제 검색 결과가 담김\n"
     ]
    },
    {
     "name": "stdout",
     "output_type": "stream",
     "text": [
      "Node 'llm_fallback':\n",
      "State 'dict_keys(['generation'])':\n",
      "Value '{'generation': '현충일은 매년 6월 6일입니다. 이 날은 한국에서 전사자와 순국선열을 기리기 위한 날로, 국가적으로 기념됩니다. 추가적인 질문이 있으시면 말씀해 주세요!'}':\n",
      "\n",
      "---\n",
      "\n",
      "현충일은 매년 6월 6일입니다. 이 날은 한국에서 전사자와 순국선열을 기리기 위한 날로, 국가적으로 기념됩니다. 추가적인 질문이 있으시면 말씀해 주세요!\n"
     ]
    }
   ],
   "source": [
    "# 그래프 실행\n",
    "inputs = {\"question\": \"현충일이 언제야?\"}\n",
    "for output in adaptive_rag.stream(inputs):\n",
    "    for key, value in output.items():\n",
    "        print(f\"Node '{key}':\")\n",
    "        print(f\"State '{value.keys()}':\")\n",
    "        print(f\"Value '{value}':\")\n",
    "    print(\"\\n---\\n\")\n",
    "\n",
    "# 최종 답변\n",
    "print(value[\"generation\"])"
   ]
  },
  {
   "cell_type": "code",
   "execution_count": 21,
   "metadata": {},
   "outputs": [
    {
     "name": "stdout",
     "output_type": "stream",
     "text": [
      "Node 'llm_fallback':\n",
      "State 'dict_keys(['generation'])':\n",
      "Value '{'generation': '관련된 문서를 찾을 수 없습니다.'}':\n",
      "\n",
      "---\n",
      "\n",
      "관련된 문서를 찾을 수 없습니다.\n"
     ]
    }
   ],
   "source": [
    "# 그래프 실행\n",
    "inputs = {\"question\": \"경영학과에 어울리는 도서 추천 해줘\"}\n",
    "for output in adaptive_rag.stream(inputs):\n",
    "    for key, value in output.items():\n",
    "        print(f\"Node '{key}':\")\n",
    "        print(f\"State '{value.keys()}':\")\n",
    "        print(f\"Value '{value}':\")\n",
    "    print(\"\\n---\\n\")\n",
    "\n",
    "# 최종 답변\n",
    "print(value[\"generation\"])"
   ]
  },
  {
   "cell_type": "markdown",
   "metadata": {},
   "source": [
    "## 00. 프로젝트 목적\n",
    "\n",
    "- 본 프로젝트는 Adaptive RAG를 위한 프로젝트입니다."
   ]
  },
  {
   "cell_type": "markdown",
   "metadata": {},
   "source": [
    "-  프로젝트 설명\n",
    "\n",
    "- 고교학점제 전용 챗봇이라는 큰 틀을 먼저 잡고, 그 아래 세부 카테고리를 재정의\n",
    "    - 운영 문의: 제도, 졸업 요건, 교과 이수 기준 등\n",
    "    - 과목 선택: 계열/진로 관련 과목, 이수 단위 관련 질문\n",
    "    - 입시 연계: 대입, 학과, 진학에 유리한 과목 조합 등\n",
    "    - 도서/자료 추천: 진로에 맞는 책이나 자료\n",
    "    - 서비스 이용 문의: 챗봇 사용법, 시스템 오류 등"
   ]
  },
  {
   "cell_type": "markdown",
   "metadata": {},
   "source": [
    "### 필요한 환경변수 정의"
   ]
  },
  {
   "cell_type": "code",
   "execution_count": null,
   "metadata": {},
   "outputs": [],
   "source": [
    "# API 키를 환경변수로 관리하기 위한 설정 파일\n",
    "from dotenv import load_dotenv\n",
    "import os\n",
    "\n",
    "# API 키 정보 로드\n",
    "load_dotenv()\n",
    "\n",
    "# API 키 읽어오기\n",
    "openai_api_key = os.environ.get('OPENAI_API_KEY')\n",
    "pinecone_api_key = os.environ.get(\"PINECONE_API_KEY\")"
   ]
  },
  {
   "cell_type": "markdown",
   "metadata": {},
   "source": [
    "## 01. Tool 정의"
   ]
  },
  {
   "cell_type": "code",
   "execution_count": null,
   "metadata": {},
   "outputs": [
    {
     "name": "stderr",
     "output_type": "stream",
     "text": [
      "c:\\Users\\82106\\AppData\\Local\\Programs\\Python\\Python39\\lib\\site-packages\\tqdm\\auto.py:21: TqdmWarning: IProgress not found. Please update jupyter and ipywidgets. See https://ipywidgets.readthedocs.io/en/stable/user_install.html\n",
      "  from .autonotebook import tqdm as notebook_tqdm\n"
     ]
    }
   ],
   "source": [
    "from langchain_pinecone import PineconeVectorStore\n",
    "from langchain_openai import OpenAIEmbeddings\n",
    "from langchain_core.documents import Document\n",
    "from langchain_community.tools import TavilySearchResults\n",
    "from langchain_core.tools import tool\n",
    "from typing import List"
   ]
  },
  {
   "cell_type": "code",
   "execution_count": null,
   "metadata": {},
   "outputs": [],
   "source": [
    "# OpenAI 임베딩 인스턴스 생성\n",
    "embeddings = OpenAIEmbeddings(\n",
    "    model='text-embedding-3-large',\n",
    "    openai_api_key=openai_api_key\n",
    ")"
   ]
  },
  {
   "cell_type": "code",
   "execution_count": null,
   "metadata": {},
   "outputs": [],
   "source": [
    "# 운영 문의 정보 검색\n",
    "pinecone_policy = PineconeVectorStore.from_documents(\n",
    "    documents=[], # 빈 리스트로 초기화\n",
    "    index_name=\"mypolio-curriculums\",   # 인덱스 이름\n",
    "    embedding=embeddings,               # 임베딩 인스턴스\n",
    "    pinecone_api_key=pinecone_api_key,\n",
    "    namespace=\"policy\", # 네임스페이스 설정 : 운영 문의 -> policy\n",
    ")\n",
    "\n",
    "# 운영 정보 검색 tool 정의\n",
    "@tool\n",
    "def search_policy(query: str) -> List[Document]:\n",
    "    \"\"\"\n",
    "    Securely search and access operational information related to the High School Credit System,\n",
    "    including graduation requirements, academic regulations, subject completion standards, and general policy guidelines.\n",
    "\n",
    "    To maintain data integrity and clarity, use this tool only for questions about system operations of the High School Credit System,\n",
    "    such as curriculum rules, credit units, or graduation criteria.\n",
    "    \"\"\"\n",
    "    docs = pinecone_policy.similarity_search(query, k=2)\n",
    "    if len(docs) > 0:\n",
    "        return docs\n",
    "    \n",
    "    return [Document(page_content=\"관련 정보를 찾을 수 없습니다.\")]"
   ]
  },
  {
   "cell_type": "code",
   "execution_count": null,
   "metadata": {},
   "outputs": [],
   "source": [
    "# 과목 정보 검색\n",
    "pinecone_subject = PineconeVectorStore.from_documents(\n",
    "    documents=[], # 빈 리스트로 초기화\n",
    "    index_name=\"mypolio-curriculums\",   # 인덱스 이름\n",
    "    embedding=embeddings,               # 임베딩 인스턴스\n",
    "    pinecone_api_key=pinecone_api_key,\n",
    "    namespace=\"subject\", # 네임스페이스 설정: 과목 문의 -> subject\n",
    ")\n",
    "\n",
    "# 과목 점보 검색 tool 정의\n",
    "@tool\n",
    "def search_subject(query: str) -> List[Document]:\n",
    "    \"\"\"\n",
    "    Securely search and access information about subject within the High School Credit System,  \n",
    "    including subject descriptions, learning objectives, curriculum content, and their relevance to specific career paths.\n",
    "\n",
    "    To ensure appropriate guidance, use this tool only for questions related to subject within the High School Credit System\n",
    "    \"\"\"\n",
    "    docs = pinecone_subject.similarity_search(query, k=2)\n",
    "    if len(docs) > 0:\n",
    "        return docs\n",
    "    \n",
    "    return [Document(page_content=\"관련 정보를 찾을 수 없습니다.\")]"
   ]
  },
  {
   "cell_type": "code",
   "execution_count": null,
   "metadata": {},
   "outputs": [],
   "source": [
    "# 입시 정보 검색\n",
    "pinecone_admission = PineconeVectorStore.from_documents(\n",
    "    documents=[], # 빈 리스트로 초기화\n",
    "    index_name=\"mypolio-curriculums\",   # 인덱스 이름\n",
    "    embedding=embeddings,               # 임베딩 인스턴스\n",
    "    pinecone_api_key=pinecone_api_key,\n",
    "    namespace=\"admission\", # 네임스페이스 설정: 과목 문의 -> subject\n",
    ")\n",
    "\n",
    "# 입시 점보 검색 tool 정의\n",
    "@tool\n",
    "def search_admission(query: str) -> List[Document]:\n",
    "    \"\"\"\n",
    "    Securely search and access information related to college admissions in the context of the High School Credit System,  \n",
    "    including university overviews, academic majors, academic tracks (계열), and admission procedures.\n",
    "\n",
    "    To maintain clarity and relevance, use this tool only for questions about college and major selection,  \n",
    "    such as introductions to specific universities, departments, or entrance examination methods.\n",
    "    \"\"\"\n",
    "\n",
    "    docs = pinecone_admission.similarity_search(query, k=2)\n",
    "    if len(docs) > 0:\n",
    "        return docs\n",
    "    \n",
    "    return [Document(page_content=\"관련 정보를 찾을 수 없습니다.\")]"
   ]
  },
  {
   "cell_type": "code",
   "execution_count": null,
   "metadata": {},
   "outputs": [],
   "source": [
    "# 도서 정보 검색\n",
    "pinecone_book = PineconeVectorStore.from_documents(\n",
    "    documents=[], # 빈 리스트로 초기화\n",
    "    index_name=\"mypolio-curriculums\",   # 인덱스 이름\n",
    "    embedding=embeddings,               # 임베딩 인스턴스\n",
    "    pinecone_api_key=pinecone_api_key,\n",
    "    namespace=\"book\", # 네임스페이스 설정: 과목 문의 -> subject\n",
    ")\n",
    "\n",
    "# 도서 추천 검색 tool 정의\n",
    "@tool\n",
    "def search_book(query: str) -> List[Document]:\n",
    "    \"\"\"\n",
    "    Search and access book recommendations tailored to specific majors or academic tracks,  \n",
    "    along with brief summaries for each recommended title.\n",
    "\n",
    "    Use this tool only for questions about books related to a student’s interests or field of study.\n",
    "    \"\"\"\n",
    "\n",
    "    docs = pinecone_book.similarity_search(query, k=2)\n",
    "    if len(docs) > 0:\n",
    "        return docs\n",
    "    \n",
    "    return [Document(page_content=\"관련 정보를 찾을 수 없습니다.\")]"
   ]
  },
  {
   "cell_type": "code",
   "execution_count": null,
   "metadata": {},
   "outputs": [],
   "source": [
    "# 서비스 관련 정보 검색\n",
    "pinecone_service = PineconeVectorStore.from_documents(\n",
    "    documents=[], # 빈 리스트로 초기화\n",
    "    index_name=\"mypolio-curriculums\",   # 인덱스 이름\n",
    "    embedding=embeddings,               # 임베딩 인스턴스\n",
    "    pinecone_api_key=pinecone_api_key,\n",
    "    namespace=\"service\", # 네임스페이스 설정: 고교학점제 -> curriculum, 진로&진학 상담 -> course, 서비스 문의 -> service\n",
    ")\n",
    "\n",
    "# 서비스 검색\n",
    "@tool\n",
    "def search_service(query: str) -> List[str]:\n",
    "    \"\"\"\n",
    "    Securely search and access service-related information for the Myfolio service-related information,  \n",
    "    including how to use the chatbot and how to resolve issues related to the Myfolio service.\n",
    "\n",
    "    Use this tool only for service-related queries, such as usage instructions or customer support requests.\n",
    "    \"\"\"\n",
    "\n",
    "    docs = pinecone_service.similarity_search(query, k=2)\n",
    "    if len(docs) > 0:\n",
    "        return docs\n",
    "    \n",
    "    return [Document(page_content=\"관련 정보를 찾을 수 없습니다.\")]"
   ]
  },
  {
   "cell_type": "code",
   "execution_count": null,
   "metadata": {},
   "outputs": [],
   "source": [
    "# 도구 목록을 정의 \n",
    "tools = [search_policy, search_subject, search_admission, search_book, search_service]"
   ]
  },
  {
   "cell_type": "code",
   "execution_count": null,
   "metadata": {},
   "outputs": [],
   "source": [
    "from langchain_openai import ChatOpenAI\n",
    "from pprint import pprint\n",
    "\n",
    "# 기본 LLM\n",
    "llm = ChatOpenAI(model=\"gpt-4o-mini\", temperature=0, streaming=True)\n",
    "\n",
    "# LLM에 도구 바인딩하여 추가 \n",
    "llm_with_tools = llm.bind_tools(tools)"
   ]
  },
  {
   "cell_type": "code",
   "execution_count": null,
   "metadata": {},
   "outputs": [
    {
     "name": "stdout",
     "output_type": "stream",
     "text": [
      "AIMessage(content='', additional_kwargs={'tool_calls': [{'index': 0, 'id': 'call_L0EUU8tvEY4wcL8uN0uaNbXo', 'function': {'arguments': '{\"query\":\"고교학점제 졸업요건\"}', 'name': 'search_policy'}, 'type': 'function'}]}, response_metadata={'finish_reason': 'tool_calls', 'model_name': 'gpt-4o-mini-2024-07-18', 'system_fingerprint': 'fp_92e0377081'}, id='run--698bd398-6fc3-4bbd-a2b9-8304c3116132-0', tool_calls=[{'name': 'search_policy', 'args': {'query': '고교학점제 졸업요건'}, 'id': 'call_L0EUU8tvEY4wcL8uN0uaNbXo', 'type': 'tool_call'}])\n",
      "----------------------------------------------------------------------------------------------------\n",
      "''\n",
      "----------------------------------------------------------------------------------------------------\n",
      "[{'args': {'query': '고교학점제 졸업요건'},\n",
      "  'id': 'call_L0EUU8tvEY4wcL8uN0uaNbXo',\n",
      "  'name': 'search_policy',\n",
      "  'type': 'tool_call'}]\n",
      "----------------------------------------------------------------------------------------------------\n"
     ]
    }
   ],
   "source": [
    "# 메뉴 검색에 관련된 질문을 하는 경우 -> 메뉴 검색 도구를 호출  \n",
    "query = \"고교학점제 졸업요건에 대해 설명해줘\"\n",
    "ai_msg = llm_with_tools.invoke(query)\n",
    "\n",
    "pprint(ai_msg)\n",
    "print(\"-\" * 100)\n",
    "\n",
    "pprint(ai_msg.content)\n",
    "print(\"-\" * 100)\n",
    "\n",
    "pprint(ai_msg.tool_calls)\n",
    "print(\"-\" * 100)"
   ]
  },
  {
   "cell_type": "markdown",
   "metadata": {},
   "source": [
    "## 02. State 정의"
   ]
  },
  {
   "cell_type": "code",
   "execution_count": null,
   "metadata": {},
   "outputs": [],
   "source": [
    "from typing import TypedDict, List\n",
    "from langchain_core.documents import Document\n",
    "\n",
    "# 상태 Schema 정의 \n",
    "class AdaptiveRagState(TypedDict):\n",
    "    question: str\n",
    "    documents: List[Document]\n",
    "    generation: str"
   ]
  },
  {
   "cell_type": "markdown",
   "metadata": {},
   "source": [
    "## 03. 질문 분석 후 라우팅"
   ]
  },
  {
   "cell_type": "code",
   "execution_count": null,
   "metadata": {},
   "outputs": [
    {
     "name": "stdout",
     "output_type": "stream",
     "text": [
      "tool='search_policy'\n",
      "tool='search_subject'\n",
      "tool='search_admission'\n",
      "tool='search_book'\n",
      "tool='search_service'\n"
     ]
    }
   ],
   "source": [
    "from typing import Literal\n",
    "from langchain_core.prompts import ChatPromptTemplate\n",
    "from pydantic import BaseModel, Field\n",
    "from textwrap import dedent\n",
    "\n",
    "# 라우팅 결정용 데이터 모델\n",
    "class ToolSelector(BaseModel):\n",
    "    \"\"\"Routes the user question to the most appropriate tool.\"\"\"\n",
    "    tool: Literal[\n",
    "        \"search_policy\", \n",
    "        \"search_subject\", \n",
    "        \"search_admission\", \n",
    "        \"search_book\", \n",
    "        \"search_service\"\n",
    "    ] = Field(\n",
    "        description=\"Select one of the tools: search_policy, search_subject, search_admission, search_books, or search_service based on the user's question.\"\n",
    "    )\n",
    "\n",
    "# 구조화된 출력을 위한 LLM 설정\n",
    "structured_llm = llm.with_structured_output(ToolSelector)\n",
    "\n",
    "# 라우팅을 위한 프롬프트 템플릿\n",
    "system = dedent(\"\"\"You are a high school curriculum chatbot that classifies user questions into one of five categories.\n",
    "\n",
    "Use the following routing rules:\n",
    "- For questions about 고교학점제 운영, graduation requirements, or subject completion standards, use the **search_policy** tool.\n",
    "- For questions about 과목 정보, 학습 내용, or recommended subjects for careers, use the **search_subject** tool.\n",
    "- For questions about 대학/전공/계열 소개 or 입학 전형, use the **search_admission** tool.\n",
    "- For questions requesting 전공/계열 관련 도서 추천 or brief summaries of specific books, use the **search_book** tool.\n",
    "- For questions about how to use the chatbot or MyPolio service issues, use the **search_service** tool.\n",
    "\n",
    "Always select the most appropriate tool based on the user's intent.\n",
    "\"\"\")\n",
    "\n",
    "route_prompt = ChatPromptTemplate.from_messages(\n",
    "    [\n",
    "        (\"system\", system),\n",
    "        (\"human\", \"{question}\"),\n",
    "    ]\n",
    ")\n",
    "\n",
    "# 질문 라우터 정의\n",
    "question_router = route_prompt | structured_llm\n",
    "\n",
    "# 테스트 실행\n",
    "print(question_router.invoke({\"question\": \"고교학점제 졸업 요건에 대해 설명해줘\"}))\n",
    "print(question_router.invoke({\"question\": \"경영학과 가고 싶은데, 어떤 과목을 들어야 하나요?\"}))\n",
    "print(question_router.invoke({\"question\": \"서울대학교 경영학과에 대해 알려줘.\"}))\n",
    "print(question_router.invoke({\"question\": \"경영학과에 도움되는 도서 추천해줘.\"}))\n",
    "print(question_router.invoke({\"question\": \"베어러블의 세특 추천 서비스 이용 방법이 궁금해요.\"}))"
   ]
  },
  {
   "cell_type": "code",
   "execution_count": null,
   "metadata": {},
   "outputs": [],
   "source": [
    "def route_question_adaptive(state: AdaptiveRagState) -> Literal[\n",
    "    \"search_policy\", \"search_subject\", \"search_admission\", \"search_book\", \"search_service\", \"llm_fallback\"\n",
    "]:\n",
    "    question = state[\"question\"]\n",
    "    try:\n",
    "        result = run_tool_and_get_output(question)\n",
    "        datasource = result[\"tool\"]\n",
    "        output = result[\"output\"]\n",
    "\n",
    "        # output이 문서 리스트고, 전부 '관련 정보를 찾을 수 없습니다'이면 fallback\n",
    "        if isinstance(output, list):\n",
    "            all_pages = [doc.page_content for doc in output]\n",
    "            if all(\"관련 정보를 찾을 수 없습니다\" in page for page in all_pages):\n",
    "                return \"llm_fallback\"\n",
    "\n",
    "        return datasource if datasource in tool_map else \"llm_fallback\"\n",
    "\n",
    "    except Exception as e:\n",
    "        print(f\"Error in routing: {str(e)}\")\n",
    "        return \"llm_fallback\""
   ]
  },
  {
   "cell_type": "markdown",
   "metadata": {},
   "source": [
    "## 04. 검색 노드 설정"
   ]
  },
  {
   "cell_type": "code",
   "execution_count": null,
   "metadata": {},
   "outputs": [],
   "source": [
    "def search_policy_adaptive(state: AdaptiveRagState):\n",
    "    \"\"\"\n",
    "    Node for searching information in the 고교학점제 운영\n",
    "    \"\"\"\n",
    "    question = state[\"question\"]\n",
    "    docs = search_policy.invoke(question)\n",
    "    if len(docs) > 0:\n",
    "        return {\"documents\": docs}\n",
    "    else:\n",
    "        return {\"documents\": [Document(page_content=\"관련 고교학점제 운영 정보를 찾을 수 없습니다.\")]}\n",
    "\n",
    "\n",
    "def search_subject_adaptive(state: AdaptiveRagState):\n",
    "    \"\"\"\n",
    "    Node for searching information in the subject whthin the 고교학점제\n",
    "    \"\"\"\n",
    "    question = state[\"question\"]\n",
    "    docs = search_subject.invoke(question)\n",
    "    if len(docs) > 0:\n",
    "        return {\"documents\": docs}\n",
    "    else:\n",
    "        return {\"documents\": [Document(page_content=\"관련 과목 정보를 찾을 수 없습니다.\")]}\n",
    "\n",
    "def search_admission_adaptive(state: AdaptiveRagState):\n",
    "    \"\"\"\n",
    "    Node for searching information in the admission\n",
    "    \"\"\"\n",
    "    question = state[\"question\"]\n",
    "    docs = search_admission.invoke(question)\n",
    "    if len(docs) > 0:\n",
    "        return {\"documents\": docs}\n",
    "    else:\n",
    "        return {\"documents\": [Document(page_content=\"관련 입시 정보를 찾을 수 없습니다.\")]}\n",
    "\n",
    "def search_book_adaptive(state: AdaptiveRagState):\n",
    "    \"\"\"\n",
    "    Node for searching information in the book\n",
    "    \"\"\"\n",
    "    question = state[\"question\"]\n",
    "    docs = search_book.invoke(question)\n",
    "    if len(docs) > 0:\n",
    "        return {\"documents\": docs}\n",
    "    else:\n",
    "        return {\"documents\": [Document(page_content=\"관련 도서 정보를 찾을 수 없습니다.\")]}\n",
    "\n",
    "\n",
    "def search_service_adaptive(state: AdaptiveRagState):\n",
    "    \"\"\"\n",
    "    Node for searching the 베어러블 service information\n",
    "    \"\"\"\n",
    "    question = state[\"question\"]\n",
    "    docs = search_service.invoke(question)\n",
    "    if len(docs) > 0:\n",
    "        return {\"documents\": docs}\n",
    "    else:\n",
    "        return {\"documents\": [Document(page_content=\"관련 베어러블 서비스 정보를 찾을 수 없습니다.\")]}"
   ]
  },
  {
   "cell_type": "markdown",
   "metadata": {},
   "source": [
    "## 05. 생성노드"
   ]
  },
  {
   "cell_type": "code",
   "execution_count": null,
   "metadata": {},
   "outputs": [],
   "source": [
    "from langchain_core.output_parsers import StrOutputParser\n",
    "from langchain_core.prompts import ChatPromptTemplate\n",
    "\n",
    "# RAG 프롬프트 정의\n",
    "rag_prompt = ChatPromptTemplate.from_messages([\n",
    "    (\"system\", \"\"\"You are an assistant answering questions based on provided documents. Follow these guidelines:\n",
    "\n",
    "1. Use only information from the given documents.\n",
    "2. If the document lacks relevant info, say \"The provided documents don't contain information to answer this question.\"\n",
    "3. Cite relevant parts of the document in your answers.\n",
    "4. Don't speculate or add information not in the documents.\n",
    "5. Keep answers concise and clear.\n",
    "6. Omit irrelevant information.\n",
    "7. 관련된 문서가 없을 경우, \n",
    "   \"The provided documents don't contain information to answer this question.\"라고 답변해줘.\"\"\"\n",
    "),\n",
    "    (\"human\", \"Answer the following question using these documents:\\n\\n[Documents]\\n{documents}\\n\\n[Question]\\n{question}\"),\n",
    "])\n",
    "\n",
    "def generate_adaptive(state: AdaptiveRagState):\n",
    "    \"\"\"\n",
    "    Generate answer using the retrieved_documents\n",
    "    \"\"\"\n",
    "    question = state.get(\"question\", None)\n",
    "    documents = state.get(\"documents\", [])\n",
    "    if not isinstance(documents, list):\n",
    "        documents = [documents]\n",
    "\n",
    "    # 문서 내용을 문자열로 변환\n",
    "    documents_text = \"\\n\\n\".join([f\"---\\n본문: {doc.page_content}\\n메타데이터:{str(doc.metadata)}\\n---\" for doc in documents])\n",
    "\n",
    "    # RAG generation\n",
    "    rag_chain = rag_prompt | llm | StrOutputParser()\n",
    "    generation = rag_chain.invoke({\"documents\": documents_text, \"question\": question})\n",
    "    return {\"generation\": generation}"
   ]
  },
  {
   "cell_type": "code",
   "execution_count": null,
   "metadata": {},
   "outputs": [],
   "source": [
    "# LLM Fallback 프롬프트 정의\n",
    "fallback_prompt = ChatPromptTemplate.from_messages([\n",
    "    (\"system\", \"\"\"You are an AI assistant helping with various topics. Follow these guidelines:\n",
    "\n",
    "There are two possible situations:\n",
    "\n",
    "1. If the {question} is relevant to topics like school policies, curriculum, admissions, book, or services 등 학교에 관련된 정보,\n",
    "    respond by clearly stating: \"관련된 문서를 찾을 수 없습니다.\"\n",
    "\n",
    "2. If the question is unrelated to those topics (e.g., public holidays, general culture, history, daily life),\n",
    "   simply answer it using your general knowledge.\n",
    "\n",
    "In all cases:\n",
    "- Provide accurate and helpful information to the best of your ability.\n",
    "- Express uncertainty when unsure; avoid speculation.\n",
    "- Keep answers concise yet informative.\n",
    "- Inform users they can ask for clarification if needed.\n",
    "- Respond ethically and constructively.\n",
    "- Mention reliable general sources when applicable if needed.\n",
    "\"\"\"),\n",
    "    (\"human\", \"{question}\"),\n",
    "])\n",
    "\n",
    "def llm_fallback_adaptive(state: AdaptiveRagState):\n",
    "    \"\"\"\n",
    "    Generate answer using the LLM without context\n",
    "    \"\"\"\n",
    "    question = state.get(\"question\", \"\")\n",
    "    \n",
    "    # LLM chain\n",
    "    llm_chain = fallback_prompt | llm | StrOutputParser()\n",
    "    \n",
    "    generation = llm_chain.invoke({\"question\": question})\n",
    "    return {\"generation\": generation}"
   ]
  },
  {
   "cell_type": "markdown",
   "metadata": {},
   "source": [
    "## 06. 그래프 연결"
   ]
  },
  {
   "cell_type": "code",
   "execution_count": null,
   "metadata": {},
   "outputs": [
    {
     "data": {
      "image/png": "[encoded data removed]",
      "text/plain": [
       "<IPython.core.display.Image object>"
      ]
     },
     "metadata": {},
     "output_type": "display_data"
    }
   ],
   "source": [
    "from langgraph.graph import StateGraph, START, END\n",
    "from IPython.display import Image, display\n",
    "\n",
    "# 그래프 구성\n",
    "builder = StateGraph(AdaptiveRagState)\n",
    "\n",
    "# 노드 추가\n",
    "builder.add_node(\"search_policy\", search_policy_adaptive)\n",
    "builder.add_node(\"search_subject\", search_subject_adaptive)\n",
    "builder.add_node(\"search_admission\", search_admission_adaptive)\n",
    "builder.add_node(\"search_book\", search_book_adaptive)\n",
    "builder.add_node(\"search_service\", search_service_adaptive)\n",
    "\n",
    "# 생성 & fallback 노드\n",
    "builder.add_node(\"generate\", generate_adaptive)\n",
    "builder.add_node(\"llm_fallback\", llm_fallback_adaptive)\n",
    "\n",
    "# 조건부 라우팅 추가\n",
    "builder.add_conditional_edges(\n",
    "    START,\n",
    "    route_question_adaptive\n",
    ")\n",
    "\n",
    "# 각 검색 → generate 연결\n",
    "builder.add_edge(\"search_policy\", \"generate\")\n",
    "builder.add_edge(\"search_subject\", \"generate\")\n",
    "builder.add_edge(\"search_admission\", \"generate\")\n",
    "builder.add_edge(\"search_book\", \"generate\")\n",
    "builder.add_edge(\"search_service\", \"generate\")\n",
    "\n",
    "# generate → END\n",
    "builder.add_edge(\"generate\", END)\n",
    "\n",
    "# fallback → END\n",
    "builder.add_edge(\"llm_fallback\", END)\n",
    "\n",
    "# 그래프 컴파일\n",
    "adaptive_rag = builder.compile()\n",
    "\n",
    "# 그래프 시각화\n",
    "display(Image(adaptive_rag.get_graph().draw_mermaid_png(max_retries=5, retry_delay=2.0)))"
   ]
  },
  {
   "cell_type": "code",
   "execution_count": null,
   "metadata": {},
   "outputs": [
    {
     "name": "stderr",
     "output_type": "stream",
     "text": [
      "C:\\Users\\82106\\AppData\\Local\\Temp\\ipykernel_26708\\4078414276.py:17: LangChainDeprecationWarning: The method `BaseTool.__call__` was deprecated in langchain-core 0.1.47 and will be removed in 1.0. Use :meth:`~invoke` instead.\n",
      "  output = tool_map[tool_name](question)  # 여기에 실제 검색 결과가 담김\n"
     ]
    },
    {
     "name": "stdout",
     "output_type": "stream",
     "text": [
      "Node 'llm_fallback':\n",
      "State 'dict_keys(['generation'])':\n",
      "Value '{'generation': '현충일은 매년 6월 6일입니다. 이 날은 한국에서 전사자와 순국선열을 기리기 위한 날로, 국가적으로 기념됩니다. 추가적인 질문이 있으시면 말씀해 주세요!'}':\n",
      "\n",
      "---\n",
      "\n",
      "현충일은 매년 6월 6일입니다. 이 날은 한국에서 전사자와 순국선열을 기리기 위한 날로, 국가적으로 기념됩니다. 추가적인 질문이 있으시면 말씀해 주세요!\n"
     ]
    }
   ],
   "source": [
    "# 그래프 실행\n",
    "inputs = {\"question\": \"현충일이 언제야?\"}\n",
    "for output in adaptive_rag.stream(inputs):\n",
    "    for key, value in output.items():\n",
    "        print(f\"Node '{key}':\")\n",
    "        print(f\"State '{value.keys()}':\")\n",
    "        print(f\"Value '{value}':\")\n",
    "    print(\"\\n---\\n\")\n",
    "\n",
    "# 최종 답변\n",
    "print(value[\"generation\"])"
   ]
  }
 ],
 "metadata": {
  "kernelspec": {
   "display_name": "Python 3",
   "language": "python",
   "name": "python3"
  },
  "language_info": {
   "codemirror_mode": {
    "name": "ipython",
    "version": 3
   },
   "file_extension": ".py",
   "mimetype": "text/x-python",
   "name": "python",
   "nbconvert_exporter": "python",
   "pygments_lexer": "ipython3",
   "version": "3.9.13"
  }
 },
 "nbformat": 4,
 "nbformat_minor": 2
}
