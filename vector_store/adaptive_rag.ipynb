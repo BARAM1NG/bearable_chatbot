{
 "cells": [
  {
   "cell_type": "markdown",
   "id": "0c4f5fe9",
   "metadata": {},
   "source": [
    "## 00. 프로젝트 목적\n",
    "- 본 프로젝트는 Adaptive RAG를 위한 프로젝트입니다."
   ]
  },
  {
   "cell_type": "markdown",
   "id": "e9d06c2c",
   "metadata": {},
   "source": [
    "### 필요한 환경변수 로드"
   ]
  },
  {
   "cell_type": "code",
   "execution_count": 1,
   "id": "b9585e9f",
   "metadata": {},
   "outputs": [],
   "source": [
    "# API 키를 환경변수로 관리하기 위한 설정 파일\n",
    "from dotenv import load_dotenv\n",
    "import os\n",
    "\n",
    "# API 키 정보 로드\n",
    "load_dotenv()\n",
    "\n",
    "# API 키 읽어오기\n",
    "openai_api_key = os.environ.get('OPENAI_API_KEY')\n",
    "pinecone_api_key = os.environ.get(\"PINECONE_API_KEY\")"
   ]
  },
  {
   "cell_type": "markdown",
   "id": "36f513ab",
   "metadata": {},
   "source": [
    "## 01. Tool 정의"
   ]
  },
  {
   "cell_type": "code",
   "execution_count": 2,
   "id": "25018b75",
   "metadata": {},
   "outputs": [
    {
     "name": "stderr",
     "output_type": "stream",
     "text": [
      "/opt/homebrew/Caskroom/miniconda/base/envs/bearable/lib/python3.11/site-packages/tqdm/auto.py:21: TqdmWarning: IProgress not found. Please update jupyter and ipywidgets. See https://ipywidgets.readthedocs.io/en/stable/user_install.html\n",
      "  from .autonotebook import tqdm as notebook_tqdm\n",
      "/var/folders/jn/6v9ffl5x6gvf4y16kqq_wqgh0000gn/T/ipykernel_26487/3552324348.py:9: LangChainDeprecationWarning: The class `OpenAIEmbeddings` was deprecated in LangChain 0.0.9 and will be removed in 1.0. An updated version of the class exists in the :class:`~langchain-openai package and should be used instead. To use it run `pip install -U :class:`~langchain-openai` and import as `from :class:`~langchain_openai import OpenAIEmbeddings``.\n",
      "  embeddings = OpenAIEmbeddings(\n"
     ]
    }
   ],
   "source": [
    "from langchain_pinecone import PineconeVectorStore\n",
    "from langchain.embeddings import OpenAIEmbeddings\n",
    "from langchain_core.documents import Document\n",
    "from langchain_community.tools import TavilySearchResults\n",
    "from langchain_core.tools import tool\n",
    "from typing import List\n",
    "\n",
    "# OpenAI 임베딩 인스턴스 생성\n",
    "embeddings = OpenAIEmbeddings(\n",
    "    model='text-embedding-3-large',\n",
    "    openai_api_key=openai_api_key\n",
    ")\n",
    "\n",
    "# 고교학점제 정보 검색\n",
    "pinecone_curriculums = PineconeVectorStore.from_documents(\n",
    "    documents=[], # 빈 리스트로 초기화\n",
    "    index_name=\"mypolio-curriculums\",   # 인덱스 이름\n",
    "    embedding=embeddings,               # 임베딩 인스턴스\n",
    "    pinecone_api_key=pinecone_api_key,\n",
    "    namespace=\"curriculum\", # 네임스페이스 설정: 고교학점제 -> curriculum, 진로&진학 상담 -> course, 서비스 문의 -> service\n",
    ")\n",
    "\n",
    "# 고교학점제 검색\n",
    "@tool\n",
    "def search_curriculums(query: str) -> List[Document]:\n",
    "    \"\"\"\n",
    "    Securely search and access high school credit system information for South Korean college admissions in an enhanced encrypted database. \n",
    "    To maintain data confidentiality, use this tool only to query information related to the High School Credit System.\n",
    "    \"\"\"\n",
    "    docs = pinecone_curriculums.similarity_search(query, k=2)\n",
    "    if len(docs) > 0:\n",
    "        return docs\n",
    "    \n",
    "    return [Document(page_content=\"관련 고교학점제 정보를 찾을 수 없습니다.\")]\n",
    "\n",
    "\n",
    "# 진로/진학 정보 검색\n",
    "pinecone_course = PineconeVectorStore.from_documents(\n",
    "    documents=[], # 빈 리스트로 초기화\n",
    "    index_name=\"mypolio-curriculums\",   # 인덱스 이름\n",
    "    embedding=embeddings,               # 임베딩 인스턴스\n",
    "    pinecone_api_key=pinecone_api_key,\n",
    "    namespace=\"course\", # 네임스페이스 설정: 고교학점제 -> curriculum, 진로&진학 상담 -> course, 서비스 문의 -> service\n",
    ")\n",
    "\n",
    "# 진로/진학 검색\n",
    "@tool\n",
    "def search_course(query: str) -> List[Document]:\n",
    "    \"\"\"\n",
    "    Securely search and access career and education information from an encrypted database.\n",
    "    Use this tool only for career/advancement-related queries to maintain data confidentiality.\n",
    "    \"\"\"\n",
    "    docs = pinecone_course.similarity_search(query, k=2)\n",
    "    if len(docs) > 0:\n",
    "        return docs\n",
    "    \n",
    "    return [Document(page_content=\"관련 진로/진학 정보를 찾을 수 없습니다.\")]\n",
    "\n",
    "# 서비스 관련 정보 검색\n",
    "pinecone_service = PineconeVectorStore.from_documents(\n",
    "    documents=[], # 빈 리스트로 초기화\n",
    "    index_name=\"mypolio-curriculums\",   # 인덱스 이름\n",
    "    embedding=embeddings,               # 임베딩 인스턴스\n",
    "    pinecone_api_key=pinecone_api_key,\n",
    "    namespace=\"service\", # 네임스페이스 설정: 고교학점제 -> curriculum, 진로&진학 상담 -> course, 서비스 문의 -> service\n",
    ")\n",
    "\n",
    "# 서비스 검색\n",
    "@tool\n",
    "def search_service(query: str) -> List[str]:\n",
    "    \"\"\"\n",
    "    Securely search and access bearable service-related information in an encrypted database.\n",
    "    To maintain data confidentiality, use this tool only for service inquiry-related queries.\n",
    "    \"\"\"\n",
    "\n",
    "    docs = pinecone_course.similarity_search(query, k=2)\n",
    "    if len(docs) > 0:\n",
    "        return docs\n",
    "    \n",
    "    return [Document(page_content=\"관련 베어러블 서비스 정보를 찾을 수 없습니다.\")]\n",
    "\n",
    "\n",
    "# 도구 목록을 정의 \n",
    "tools = [search_curriculums, search_course, search_service]"
   ]
  },
  {
   "cell_type": "code",
   "execution_count": 3,
   "id": "dc506a90",
   "metadata": {},
   "outputs": [],
   "source": [
    "from langchain_openai import ChatOpenAI\n",
    "from pprint import pprint\n",
    "\n",
    "# 기본 LLM\n",
    "llm = ChatOpenAI(model=\"gpt-4o-mini\", temperature=0, streaming=True)\n",
    "\n",
    "# LLM에 도구 바인딩하여 추가 \n",
    "llm_with_tools = llm.bind_tools(tools)"
   ]
  },
  {
   "cell_type": "code",
   "execution_count": 4,
   "id": "b535d84c",
   "metadata": {},
   "outputs": [
    {
     "name": "stdout",
     "output_type": "stream",
     "text": [
      "AIMessage(content='', additional_kwargs={'tool_calls': [{'index': 0, 'id': 'call_H3Ub7yfzvq54OhkklyVd2FSx', 'function': {'arguments': '{\"query\":\"고교학점제 졸업요건\"}', 'name': 'search_curriculums'}, 'type': 'function'}]}, response_metadata={'finish_reason': 'tool_calls', 'model_name': 'gpt-4o-mini-2024-07-18', 'system_fingerprint': 'fp_0392822090'}, id='run-e99d2989-9c63-41c7-9184-67460e816c56-0', tool_calls=[{'name': 'search_curriculums', 'args': {'query': '고교학점제 졸업요건'}, 'id': 'call_H3Ub7yfzvq54OhkklyVd2FSx', 'type': 'tool_call'}])\n",
      "----------------------------------------------------------------------------------------------------\n",
      "''\n",
      "----------------------------------------------------------------------------------------------------\n",
      "[{'args': {'query': '고교학점제 졸업요건'},\n",
      "  'id': 'call_H3Ub7yfzvq54OhkklyVd2FSx',\n",
      "  'name': 'search_curriculums',\n",
      "  'type': 'tool_call'}]\n",
      "----------------------------------------------------------------------------------------------------\n"
     ]
    }
   ],
   "source": [
    "# 메뉴 검색에 관련된 질문을 하는 경우 -> 메뉴 검색 도구를 호출  \n",
    "query = \"고교학점제 졸업요건에 대해 설명해줘\"\n",
    "ai_msg = llm_with_tools.invoke(query)\n",
    "\n",
    "pprint(ai_msg)\n",
    "print(\"-\" * 100)\n",
    "\n",
    "pprint(ai_msg.content)\n",
    "print(\"-\" * 100)\n",
    "\n",
    "pprint(ai_msg.tool_calls)\n",
    "print(\"-\" * 100)"
   ]
  },
  {
   "cell_type": "markdown",
   "id": "3c52c97e",
   "metadata": {},
   "source": [
    "## 02. State 정의"
   ]
  },
  {
   "cell_type": "code",
   "execution_count": 9,
   "id": "4170a8ca",
   "metadata": {},
   "outputs": [],
   "source": [
    "from typing import TypedDict, List\n",
    "from langchain_core.documents import Document\n",
    "\n",
    "# 상태 Schema 정의 \n",
    "class AdaptiveRagState(TypedDict):\n",
    "    question: str\n",
    "    documents: List[Document]\n",
    "    generation: str"
   ]
  },
  {
   "cell_type": "markdown",
   "id": "f6fd27d0",
   "metadata": {},
   "source": [
    "## 03. 질문 분석 후 라우팅\n",
    "- 사용자의 질문을 분석하여 적절한 검색 방법을 선택 \n",
    "- 고교학점제 검색 or 진로/진학 상담 검색 or 서비스 문의"
   ]
  },
  {
   "cell_type": "code",
   "execution_count": null,
   "id": "0054f426",
   "metadata": {},
   "outputs": [
    {
     "name": "stdout",
     "output_type": "stream",
     "text": [
      "tool='search_curriculums'\n",
      "tool='search_course'\n",
      "tool='search_service'\n"
     ]
    }
   ],
   "source": [
    "from typing import Literal\n",
    "from langchain_core.prompts import ChatPromptTemplate\n",
    "from pydantic import BaseModel, Field\n",
    "from textwrap import dedent\n",
    "\n",
    "# 라우팅 결정을 위한 데이터 모델\n",
    "class ToolSelector(BaseModel):\n",
    "    \"\"\"Routes the user question to the most appropriate tool.\"\"\"\n",
    "    tool: Literal[\"search_curriculums\", \"search_course\", \"search_service\"] = Field(\n",
    "        description=\"Select one of the tools: search_curriculums, search_course or search_service based on the user's question.\"\n",
    "    )\n",
    "\n",
    "# 구조화된 출력을 위한 LLM 설정\n",
    "structured_llm = llm.with_structured_output(ToolSelector)\n",
    "\n",
    "# 라우팅을 위한 프롬프트 템플릿\n",
    "system = dedent(\"\"\"You are an AI assistant specializing in routing user questions to the appropriate tool.\n",
    "Use the following guidelines:\n",
    "- For questions about the 고교학점제, use the search_curriculums tool.\n",
    "- For questions about the student pathways/progression, use the search_course tool.\n",
    "- For questions about How to use the service, use the search_service tool.\n",
    "Always choose the most appropriate tool based on the user's question.\"\"\")\n",
    "\n",
    "route_prompt = ChatPromptTemplate.from_messages(\n",
    "    [\n",
    "        (\"system\", system),\n",
    "        (\"human\", \"{question}\"),\n",
    "    ]\n",
    ")\n",
    "\n",
    "# 질문 라우터 정의\n",
    "question_router = route_prompt | structured_llm\n",
    "\n",
    "# 테스트 실행\n",
    "print(question_router.invoke({\"question\": \"고교학점제 졸업 요건에 대해 설명해줘\"}))\n",
    "print(question_router.invoke({\"question\": \"경영학과 가고 싶은데, 어떤 과목을 들어야 하나요?\"}))\n",
    "print(question_router.invoke({\"question\": \"베어러블의 세특 추천 서비스 이용 방법이 궁금해요.\"}))"
   ]
  },
  {
   "cell_type": "code",
   "execution_count": 10,
   "id": "edcf5bf1",
   "metadata": {},
   "outputs": [],
   "source": [
    "# 질문 라우팅 노드 \n",
    "def route_question_adaptive(state: AdaptiveRagState) -> Literal[\"search_curriculums\", \"search_course\", \"search_service\", \"llm_fallback\"]:\n",
    "    question = state[\"question\"]\n",
    "    try:\n",
    "        result = question_router.invoke({\"question\": question})\n",
    "        datasource = result.tool\n",
    "        \n",
    "        if datasource == \"search_curriculums\":\n",
    "            return \"search_curriculums\"\n",
    "        elif datasource == \"search_course\":\n",
    "            return \"search_course\"        \n",
    "        elif datasource == \"search_service\":\n",
    "            return \"search_service\"\n",
    "        else:\n",
    "            return \"llm_fallback\"\n",
    "    \n",
    "    except Exception as e:\n",
    "        print(f\"Error in routing: {str(e)}\")\n",
    "        return \"llm_fallback\""
   ]
  },
  {
   "cell_type": "markdown",
   "id": "c89d4460",
   "metadata": {},
   "source": [
    "## 04. 검색 노드 설정"
   ]
  },
  {
   "cell_type": "code",
   "execution_count": 11,
   "id": "b1e7a2f2",
   "metadata": {},
   "outputs": [],
   "source": [
    "def search_curriculums_adaptive(state: AdaptiveRagState):\n",
    "    \"\"\"\n",
    "    Node for searching information in the 고교학점제\n",
    "    \"\"\"\n",
    "    question = state[\"question\"]\n",
    "    docs = search_curriculums.invoke(question)\n",
    "    if len(docs) > 0:\n",
    "        return {\"documents\": docs}\n",
    "    else:\n",
    "        return {\"documents\": [Document(page_content=\"관련 고교학점제 정보를 찾을 수 없습니다.\")]}\n",
    "\n",
    "\n",
    "def search_course_adaptive(state: AdaptiveRagState):\n",
    "    \"\"\"\n",
    "    Node for searching information in the student pathways/progression\n",
    "    \"\"\"\n",
    "    question = state[\"question\"]\n",
    "    docs = search_course.invoke(question)\n",
    "    if len(docs) > 0:\n",
    "        return {\"documents\": docs}\n",
    "    else:\n",
    "        return {\"documents\": [Document(page_content=\"관련 진로/진학 정보를 찾을 수 없습니다.\")]}\n",
    "\n",
    "\n",
    "def search_service_adaptive(state: AdaptiveRagState):\n",
    "    \"\"\"\n",
    "    Node for searching the 베어러블 service information\n",
    "    \"\"\"\n",
    "    question = state[\"question\"]\n",
    "    docs = search_service.invoke(question)\n",
    "    if len(docs) > 0:\n",
    "        return {\"documents\": docs}\n",
    "    else:\n",
    "        return {\"documents\": [Document(page_content=\"관련 베어러블 서비스 정보를 찾을 수 없습니다.\")]}"
   ]
  },
  {
   "cell_type": "markdown",
   "id": "04d59163",
   "metadata": {},
   "source": [
    "## 05. 생성 노드"
   ]
  },
  {
   "cell_type": "code",
   "execution_count": 12,
   "id": "99488fd5",
   "metadata": {},
   "outputs": [],
   "source": [
    "from langchain_core.output_parsers import StrOutputParser\n",
    "from langchain_core.prompts import ChatPromptTemplate\n",
    "\n",
    "# RAG 프롬프트 정의\n",
    "rag_prompt = ChatPromptTemplate.from_messages([\n",
    "    (\"system\", \"\"\"You are an assistant answering questions based on provided documents. Follow these guidelines:\n",
    "\n",
    "1. Use only information from the given documents.\n",
    "2. If the document lacks relevant info, say \"The provided documents don't contain information to answer this question.\"\n",
    "3. Cite relevant parts of the document in your answers.\n",
    "4. Don't speculate or add information not in the documents.\n",
    "5. Keep answers concise and clear.\n",
    "6. Omit irrelevant information.\"\"\"\n",
    "),\n",
    "    (\"human\", \"Answer the following question using these documents:\\n\\n[Documents]\\n{documents}\\n\\n[Question]\\n{question}\"),\n",
    "])\n",
    "\n",
    "def generate_adaptive(state: AdaptiveRagState):\n",
    "    \"\"\"\n",
    "    Generate answer using the retrieved_documents\n",
    "    \"\"\"\n",
    "    question = state.get(\"question\", None)\n",
    "    documents = state.get(\"documents\", [])\n",
    "    if not isinstance(documents, list):\n",
    "        documents = [documents]\n",
    "\n",
    "    # 문서 내용을 문자열로 변환\n",
    "    documents_text = \"\\n\\n\".join([f\"---\\n본문: {doc.page_content}\\n메타데이터:{str(doc.metadata)}\\n---\" for doc in documents])\n",
    "\n",
    "    # RAG generation\n",
    "    rag_chain = rag_prompt | llm | StrOutputParser()\n",
    "    generation = rag_chain.invoke({\"documents\": documents_text, \"question\": question})\n",
    "    return {\"generation\": generation}"
   ]
  },
  {
   "cell_type": "code",
   "execution_count": 13,
   "id": "c68d36f3",
   "metadata": {},
   "outputs": [],
   "source": [
    "# LLM Fallback 프롬프트 정의\n",
    "fallback_prompt = ChatPromptTemplate.from_messages([\n",
    "    (\"system\", \"\"\"You are an AI assistant helping with various topics. Follow these guidelines:\n",
    "\n",
    "1. Provide accurate and helpful information to the best of your ability.\n",
    "2. Express uncertainty when unsure; avoid speculation.\n",
    "3. Keep answers concise yet informative.\n",
    "4. Inform users they can ask for clarification if needed.\n",
    "5. Respond ethically and constructively.\n",
    "6. Mention reliable general sources when applicable.\"\"\"),\n",
    "    (\"human\", \"{question}\"),\n",
    "])\n",
    "\n",
    "def llm_fallback_adaptive(state: AdaptiveRagState):\n",
    "    \"\"\"\n",
    "    Generate answer using the LLM without context\n",
    "    \"\"\"\n",
    "    question = state.get(\"question\", \"\")\n",
    "    \n",
    "    # LLM chain\n",
    "    llm_chain = fallback_prompt | llm | StrOutputParser()\n",
    "    \n",
    "    generation = llm_chain.invoke({\"question\": question})\n",
    "    return {\"generation\": generation}"
   ]
  },
  {
   "cell_type": "markdown",
   "id": "c0bb984a",
   "metadata": {},
   "source": [
    "## 06. 그래프 연결"
   ]
  },
  {
   "cell_type": "code",
   "execution_count": 17,
   "id": "81a71daa",
   "metadata": {},
   "outputs": [],
   "source": [
    "from langgraph.graph import StateGraph, START, END\n",
    "from IPython.display import Image, display\n",
    "\n",
    "# 그래프 구성\n",
    "builder = StateGraph(AdaptiveRagState)\n",
    "\n",
    "# 노드 추가\n",
    "builder.add_node(\"search_curriculums\", search_curriculums_adaptive)\n",
    "builder.add_node(\"search_course\", search_course_adaptive)\n",
    "builder.add_node(\"search_service\", search_service_adaptive)\n",
    "builder.add_node(\"generate\", generate_adaptive)\n",
    "builder.add_node(\"llm_fallback\", llm_fallback_adaptive)\n",
    "\n",
    "# 엣지 추가\n",
    "builder.add_conditional_edges(\n",
    "    START,\n",
    "    route_question_adaptive\n",
    ")\n",
    "\n",
    "builder.add_edge(\"search_curriculums\", \"generate\")\n",
    "builder.add_edge(\"search_course\", \"generate\")\n",
    "builder.add_edge(\"search_service\", \"generate\")\n",
    "builder.add_edge(\"generate\", END)\n",
    "builder.add_edge(\"llm_fallback\", END)\n",
    "\n",
    "# 그래프 컴파일 \n",
    "adaptive_rag = builder.compile()\n",
    "\n",
    "# 그래프 시각화\n",
    "# display(Image(adaptive_rag.get_graph().draw_mermaid_png(max_retries=5, retry_delay=2.0)))"
   ]
  },
  {
   "cell_type": "code",
   "execution_count": 29,
   "id": "c40823a7",
   "metadata": {},
   "outputs": [
    {
     "name": "stdout",
     "output_type": "stream",
     "text": [
      "Node 'search_curriculums':\n",
      "State 'dict_keys(['documents'])':\n",
      "Value '{'documents': [Document(id='02e17dd0-f77b-43ad-adc3-2a68c0279e63', metadata={'doc_items_labels': ['table'], 'filename': '운영1.pdf', 'headings': ['[예시] 공강 시간 운영 예시']}, page_content='[예시] 공강 시간 운영 예시\\n학생 선택형 프로그램 운영, 유형 = 학생 주도형. 학생 선택형 프로그램 운영, 운영 내용 = ∙ 자기주도학습 ∙ 학습 멘토링 활동 ∙ 자율 동아리 활동 ∙ 독서 활동. 학생 선택형 프로그램 운영, 유형 = 학생 참여형. 학생 선택형 프로그램 운영, 운영 내용 = ∙ 문화 ･ 예술 ･ 스포츠 활동 ∙ 진로 탐색 및 학업 설계 활동 ∙ 주제 탐구 프로젝트 활동. 학습 지원형 프로그램 운영 ∙ 최소, 유형 = 학습 지원형 프로그램 운영 ∙ 최소. 학습 지원형 프로그램 운영 ∙ 최소, 운영 내용 = ∙ 진로 ･ 학업 설계 상담 성취수준 보장지도 ∙ 기초 학력 보장 지도. 학생 개인별 선택 과목 수강, 유형 = 학생 개인별 선택 과목 수강. 학생 개인별 선택 과목 수강, 운영 내용 = ∙ 일과시간 내 소인수 선택 과목, 공동교육과정, 학교 밖 교육 등 수강 등'), Document(id='0f1f8a3f-b0ac-4b53-aac2-06f6eedb6936', metadata={'doc_items_labels': ['list_item'], 'filename': '운영1.pdf', 'headings': ['③ 공강 시간 지원']}, page_content='③ 공강 시간 지원\\n- ○ 학생의 과목 선택 상황에 따라 공강이 발생할 수 있으 며 , 고교학점제의 원활한 운영을 위해 학교별 여 건 과 특색에 맞 는 공강 시간 운영 방안 마련 필요')]}':\n",
      "\n",
      "---\n",
      "\n",
      "Node 'generate':\n",
      "State 'dict_keys(['generation'])':\n",
      "Value '{'generation': '공강 시간 운영 예시는 학생 선택형 프로그램과 학습 지원형 프로그램으로 나뉘어 있습니다. \\n\\n1. **학생 선택형 프로그램**:\\n   - **학생 주도형**: 자기주도학습, 학습 멘토링 활동, 자율 동아리 활동, 독서 활동.\\n   - **학생 참여형**: 문화, 예술, 스포츠 활동, 진로 탐색 및 학업 설계 활동, 주제 탐구 프로젝트 활동.\\n\\n2. **학습 지원형 프로그램**:\\n   - 진로 및 학업 설계 상담 성취수준 보장 지도, 기초 학력 보장 지도.\\n\\n3. **학생 개인별 선택 과목 수강**:\\n   - 일과시간 내 소인수 선택 과목, 공동교육과정, 학교 밖 교육 등 수강.\\n\\n이러한 운영 방안은 학생의 과목 선택 상황에 따라 공강이 발생할 수 있으며, 고교학점제의 원활한 운영을 위해 학교별 특색에 맞는 방안 마련이 필요하다고 언급되어 있습니다.'}':\n",
      "\n",
      "---\n",
      "\n",
      "공강 시간 운영 예시는 학생 선택형 프로그램과 학습 지원형 프로그램으로 나뉘어 있습니다. \n",
      "\n",
      "1. **학생 선택형 프로그램**:\n",
      "   - **학생 주도형**: 자기주도학습, 학습 멘토링 활동, 자율 동아리 활동, 독서 활동.\n",
      "   - **학생 참여형**: 문화, 예술, 스포츠 활동, 진로 탐색 및 학업 설계 활동, 주제 탐구 프로젝트 활동.\n",
      "\n",
      "2. **학습 지원형 프로그램**:\n",
      "   - 진로 및 학업 설계 상담 성취수준 보장 지도, 기초 학력 보장 지도.\n",
      "\n",
      "3. **학생 개인별 선택 과목 수강**:\n",
      "   - 일과시간 내 소인수 선택 과목, 공동교육과정, 학교 밖 교육 등 수강.\n",
      "\n",
      "이러한 운영 방안은 학생의 과목 선택 상황에 따라 공강이 발생할 수 있으며, 고교학점제의 원활한 운영을 위해 학교별 특색에 맞는 방안 마련이 필요하다고 언급되어 있습니다.\n"
     ]
    }
   ],
   "source": [
    "# 그래프 실행\n",
    "inputs = {\"question\": \"공강 시간 운영 예시에 대해 설명해줘.\"}\n",
    "for output in adaptive_rag.stream(inputs):\n",
    "    for key, value in output.items():\n",
    "        print(f\"Node '{key}':\")\n",
    "        print(f\"State '{value.keys()}':\")\n",
    "        print(f\"Value '{value}':\")\n",
    "    print(\"\\n---\\n\")\n",
    "\n",
    "# 최종 답변\n",
    "print(value[\"generation\"])"
   ]
  }
 ],
 "metadata": {
  "kernelspec": {
   "display_name": "bearable",
   "language": "python",
   "name": "python3"
  },
  "language_info": {
   "codemirror_mode": {
    "name": "ipython",
    "version": 3
   },
   "file_extension": ".py",
   "mimetype": "text/x-python",
   "name": "python",
   "nbconvert_exporter": "python",
   "pygments_lexer": "ipython3",
   "version": "3.11.11"
  }
 },
 "nbformat": 4,
 "nbformat_minor": 5
}
